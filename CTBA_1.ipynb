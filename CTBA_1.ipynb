{
  "nbformat": 4,
  "nbformat_minor": 0,
  "metadata": {
    "colab": {
      "provenance": [],
      "authorship_tag": "ABX9TyNvf2DM1OWplAo91Vg4FlJc",
      "include_colab_link": true
    },
    "kernelspec": {
      "name": "python3",
      "display_name": "Python 3"
    },
    "language_info": {
      "name": "python"
    }
  },
  "cells": [
    {
      "cell_type": "markdown",
      "metadata": {
        "id": "view-in-github",
        "colab_type": "text"
      },
      "source": [
        "<a href=\"https://colab.research.google.com/github/jeongEulhyeong/23pythen3rd/blob/main/CTBA_1.ipynb\" target=\"_parent\"><img src=\"https://colab.research.google.com/assets/colab-badge.svg\" alt=\"Open In Colab\"/></a>"
      ]
    },
    {
      "cell_type": "markdown",
      "source": [
        "1. 쇼핑몰의 배송료를 계산하는 코드작성\n",
        " - 사용하는 변수 : price, shipping_cost"
      ],
      "metadata": {
        "id": "BMNoqMASbuqL"
      }
    },
    {
      "cell_type": "code",
      "execution_count": null,
      "metadata": {
        "colab": {
          "base_uri": "https://localhost:8080/"
        },
        "id": "2FUwWkn1bVL9",
        "outputId": "723ce3ab-d41a-40ea-a0fd-bbb5443fa54d"
      },
      "outputs": [
        {
          "output_type": "stream",
          "name": "stdout",
          "text": [
            "상품의 가격을 입력하시오. \n",
            "구입금액 입력: 19900\n",
            "구입금액이 2만원 이하입니다. \n",
            "회원님의 배송비는 3000원 입니다. \n"
          ]
        }
      ],
      "source": [
        "print(\"상품의 가격을 입력하시오.\")    #사용자에게 상품의 가격을 입력하라는 안내 메시지\n",
        "price = int(input(\"구입금액 입력: \"))   #사용자로부터 구입금액을 입력받는 부분\n",
        "\n",
        "if price > 20000:  # 만약 구입금액이 2만원 이상이라면\n",
        "    shipping_cost = 0   # 변수의 값을 0으로 초기화\n",
        "    print(\"구입금액이 2만원 이상입니다.\")   #구입금액이 2만원 이상인 경우에 해당하는 메시지를 출력\n",
        "else:  # 그렇지 않은 경우\n",
        "    shipping_cost = 3000    #변수의 값을 3000으로 설정\n",
        "    print(\"구입금액이 2만원 이하입니다.\")   #구입금액이 2만원 이하인 경우에 해당하는 메세지 출력\n",
        "\n",
        "print(f\"회원님의 배송비는 {shipping_cost}원 입니다.\")   #사용자의 배송비를 출력"
      ]
    },
    {
      "cell_type": "markdown",
      "source": [
        "위의 코드에서 price 변수는 사용자로부터 입력받은 구입금액을 저장하는 변수입니다. int(input(\"구입금액 입력: \"))를 통해 사용자로부터 정수형으로 구입금액을 입력받아 price 변수에 저장합니다.\n",
        "\n",
        "if 문을 사용하여 price 변수의 값이 20000보다 큰지 비교합니다. 만약 price가 20000보다 크다면 조건이 참(True)이 되어 if 블록의 코드가 실행됩니다. 이 경우 shipping_cost 변수에 0을 할당하고, \"구입금액이 2만원 이상입니다.\"라는 메시지를 출력합니다.\n",
        "\n",
        "반대로, price가 20000보다 작거나 같은 경우 else 블록의 코드가 실행됩니다. 이 경우 shipping_cost 변수에 3000을 할당하고, \"구입금액이 2만원 이하입니다.\"라는 메시지를 출력합니다.\n",
        "\n",
        "마지막으로, print(f\"회원님의 배송비는 {shipping_cost}원 입니다.\") 문장을 사용하여 shipping_cost 변수의 값을 출력합니다. 이때, 중괄호({})와 f를 사용하여 문자열 포맷팅을 수행하여 배송비를 출력합니다.\n",
        "\n",
        "따라서, 위의 코드는 사용자로부터 구입금액을 입력받아 구입금액에 따라 배송비를 계산하여 출력하는 기능을 가진 코드입니다."
      ],
      "metadata": {
        "id": "4xgOpk3J9FaX"
      }
    },
    {
      "cell_type": "markdown",
      "source": [
        "2. 학생으로 성적을 입력받아 합격유무를 출력하는 코드\n",
        " - 사용변수 : grade"
      ],
      "metadata": {
        "id": "OuwLiYAzgr1_"
      }
    },
    {
      "cell_type": "code",
      "source": [
        "print(\"성적을 입력하시오.\")   # 성적을 입력하라는 안내 메시지를 출력\n",
        "grade = int(input(\"성적입력: \"))    #성적을 입력받는 부분\n",
        "\n",
        "if grade >= 70:  # 만약 성적이 70점 이상이라면\n",
        "    print(\"70점 이상이므로 합격입니다.\")    #\n",
        "    print(\"축하합니다. 합격입니다.\")    #\n",
        "else:  # 그렇지 않은 경우\n",
        "    print(\"70점 이하이므로 불합격입니다.\")    #\n",
        "    print(\"아쉽군요. 다시 한번 도전하세요.\")    #"
      ],
      "metadata": {
        "colab": {
          "base_uri": "https://localhost:8080/"
        },
        "id": "S_nFKiMghC1z",
        "outputId": "566c8b02-91b2-47d3-d4b5-57bbd2cd3c3b"
      },
      "execution_count": null,
      "outputs": [
        {
          "output_type": "stream",
          "name": "stdout",
          "text": [
            "성적을 입력하시오. \n",
            "성적입력: 71\n",
            "70점 이상이므로 합격입니다. \n",
            "축하합니다. 합격입니다. \n"
          ]
        }
      ]
    },
    {
      "cell_type": "markdown",
      "source": [
        "위의 코드에서 print(\"성적을 입력하시오.\") 문장은 사용자에게 성적을 입력하라는 안내 메시지를 출력합니다.\n",
        "\n",
        "grade = int(input(\"성적입력: \")) 문장은 사용자로부터 성적을 입력받는 부분입니다. 사용자가 값을 입력한 후, Enter 키를 누르면 입력값이 문자열 형태로 반환됩니다. 이후 int() 함수를 사용하여 입력값을 정수형으로 변환하고, grade 변수에 저장합니다.\n",
        "\n",
        "if 문을 사용하여 grade 변수의 값이 70 이상인지 비교합니다. 만약 grade가 70 이상이라면 조건이 참(True)이 되어 if 블록의 코드가 실행됩니다. 이 경우 \"70점 이상이므로 합격입니다.\"라는 메시지와 \"축하합니다. 합격입니다.\"라는 메시지를 출력합니다.\n",
        "\n",
        "반대로, grade가 70 미만인 경우 else 블록의 코드가 실행됩니다. 이 경우 \"70점 이하이므로 불합격입니다.\"라는 메시지와 \"아쉽군요. 다시 한번 도전하세요.\"라는 메시지를 출력합니다.\n",
        "\n",
        "따라서, 위의 코드는 사용자로부터 성적을 입력받아 70점 이상인 경우 합격 메시지를 출력하고, 그렇지 않은 경우 불합격 메시지를 출력하는 기능을 가진 코드입니다."
      ],
      "metadata": {
        "id": "IMP4WXg--iHw"
      }
    },
    {
      "cell_type": "markdown",
      "source": [
        "3. 근무시간에 따라 초과근무와 정상근무를 판별하는 코드\n",
        " - work_hour\n",
        " - 코드 work_hour > 72"
      ],
      "metadata": {
        "id": "QcFbklsFh4Es"
      }
    },
    {
      "cell_type": "code",
      "source": [
        "print(\"근무시간을 입력하시오. \")\n",
        "work_hour = int(input(\"시간입력: \"))\n",
        "if work_hour > 72:\n",
        "  print(\"#\"*37 )\n",
        "  print(f'# 72시간 이상이므로 초과근무입니다. #')\n",
        "  print(\"#\"*37 )\n",
        "else:\n",
        "  print(\"#\"*37 )\n",
        "  print(f'# 72시간 이하이므로 정상근무입니다. #')\n",
        "  print(\"#\"*37 )"
      ],
      "metadata": {
        "colab": {
          "base_uri": "https://localhost:8080/"
        },
        "id": "qiZ_phJfiSMK",
        "outputId": "907def12-78cd-427d-cefb-1a47d033fc16"
      },
      "execution_count": null,
      "outputs": [
        {
          "output_type": "stream",
          "name": "stdout",
          "text": [
            "근무시간을 입력하시오. \n",
            "시간입력: 73\n",
            "#####################################\n",
            "# 72시간 이상이므로 초과근무입니다. #\n",
            "#####################################\n"
          ]
        }
      ]
    },
    {
      "cell_type": "markdown",
      "source": [
        "4. 짝수와 홀수를 판별하는 코드\n",
        " - 사용하는 변수 : _ num _\n",
        " - 수식 : (x % 2) != 0:"
      ],
      "metadata": {
        "id": "l-E-LFCrl3Ns"
      }
    },
    {
      "cell_type": "code",
      "source": [
        "print(\"정수를 입력하시오. \")\n",
        "_num_ = int(input(\"정수 입력 \"))\n",
        "if (_num_ % 2) != 0:\n",
        "  print(f'입력하신 {_num_}은 홀수입니다. ')\n",
        "else:\n",
        "  print(f'입력하신 {_num_}은 짝수입니다. ')"
      ],
      "metadata": {
        "colab": {
          "base_uri": "https://localhost:8080/"
        },
        "id": "ja_gGl-5mTWe",
        "outputId": "8ad47fb2-3b1f-4da4-d443-8963d2ec10e5"
      },
      "execution_count": null,
      "outputs": [
        {
          "output_type": "stream",
          "name": "stdout",
          "text": [
            "정수를 입력하시오. \n",
            "정수 입력 5\n",
            "입력하신 5은 홀수입니다. \n"
          ]
        }
      ]
    },
    {
      "cell_type": "markdown",
      "source": [
        "5. 사용자의 이름과 나이를 물어보고, 답변하는 코드\n",
        " - 사용변수: name, age\n",
        " - 출력할 내용:\n",
        "   - 성명\n",
        "   - 나이 : 20\n",
        "   - (1) 20이하: 프로그래밍을 배우는 최적의 나이입니다.\n",
        "   - (2) 20이상: 아직도 늦지 않았습니다."
      ],
      "metadata": {
        "id": "j2O7VceKnPSL"
      }
    },
    {
      "cell_type": "code",
      "source": [
        "print(\"사용자의 이름을 입력하시오. \")\n",
        "print(\"사용자의 나이를 입력하시오. \")\n",
        "name = (input(\"이름입력: \"))\n",
        "age = int(input(\"나이입력: \"))\n",
        "if age < 20:\n",
        "  print(f'20살 이하이므로 최적의 나이입니다. ')\n",
        "else:\n",
        "  print(f'20살 이상이므로 늦지 않았습니다. ')\n"
      ],
      "metadata": {
        "colab": {
          "base_uri": "https://localhost:8080/"
        },
        "id": "Oyo0Pkukn4X9",
        "outputId": "6ba0d34c-6fc3-4c47-e2db-81fdac832989"
      },
      "execution_count": null,
      "outputs": [
        {
          "output_type": "stream",
          "name": "stdout",
          "text": [
            "사용자의 이름을 입력하시오. \n",
            "사용자의 나이를 입력하시오. \n",
            "이름입력: 정을형\n",
            "나이입력: 20\n",
            "20살 이상이므로 늦지 않았습니다. \n"
          ]
        }
      ]
    }
  ]
}