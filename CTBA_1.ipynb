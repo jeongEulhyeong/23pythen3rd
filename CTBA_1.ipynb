{
  "nbformat": 4,
  "nbformat_minor": 0,
  "metadata": {
    "colab": {
      "provenance": [],
      "authorship_tag": "ABX9TyMJ/goTwTqhBDazVKPcTfBW",
      "include_colab_link": true
    },
    "kernelspec": {
      "name": "python3",
      "display_name": "Python 3"
    },
    "language_info": {
      "name": "python"
    }
  },
  "cells": [
    {
      "cell_type": "markdown",
      "metadata": {
        "id": "view-in-github",
        "colab_type": "text"
      },
      "source": [
        "<a href=\"https://colab.research.google.com/github/jeongEulhyeong/23pythen3rd/blob/main/CTBA_1.ipynb\" target=\"_parent\"><img src=\"https://colab.research.google.com/assets/colab-badge.svg\" alt=\"Open In Colab\"/></a>"
      ]
    },
    {
      "cell_type": "markdown",
      "source": [
        "1. 쇼핑몰의 배송료를 계산하는 코드작성\n",
        " - 사용하는 변수 : price, shipping_cost"
      ],
      "metadata": {
        "id": "BMNoqMASbuqL"
      }
    },
    {
      "cell_type": "code",
      "execution_count": 1,
      "metadata": {
        "colab": {
          "base_uri": "https://localhost:8080/"
        },
        "id": "2FUwWkn1bVL9",
        "outputId": "723ce3ab-d41a-40ea-a0fd-bbb5443fa54d"
      },
      "outputs": [
        {
          "output_type": "stream",
          "name": "stdout",
          "text": [
            "상품의 가격을 입력하시오. \n",
            "구입금액 입력: 19900\n",
            "구입금액이 2만원 이하입니다. \n",
            "회원님의 배송비는 3000원 입니다. \n"
          ]
        }
      ],
      "source": [
        "print(\"상품의 가격을 입력하시오. \")\n",
        "price = int(input(\"구입금액 입력: \"))\n",
        "if price >20000:\n",
        "  shipping_cost = 0\n",
        "  print(f'구입금액이 2만원 이상입니다. ')\n",
        "else:\n",
        "  shipping_cost = 3000\n",
        "  print(f'구입금액이 2만원 이하입니다. ')\n",
        "print(f'회원님의 배송비는 {shipping_cost}원 입니다. ')"
      ]
    },
    {
      "cell_type": "markdown",
      "source": [
        "2. 학생으로 성적을 입력받아 합격유무를 출력하는 코드\n",
        " - 사용변수 : grade"
      ],
      "metadata": {
        "id": "OuwLiYAzgr1_"
      }
    },
    {
      "cell_type": "code",
      "source": [
        "print(\"성적을 입력하시오. \")\n",
        "grade = int(input(\"성적입력: \"))\n",
        "if grade >= 70:\n",
        "  print(f'70점 이상이므로 합격입니다. ')\n",
        "  print(\"축하합니다. 합격입니다. \")\n",
        "else:\n",
        "  print(f'70점 이하이므로 불합격입니다. ')\n",
        "  print(\"아쉽군요. 다시한번 도전하세요. \")"
      ],
      "metadata": {
        "colab": {
          "base_uri": "https://localhost:8080/"
        },
        "id": "S_nFKiMghC1z",
        "outputId": "566c8b02-91b2-47d3-d4b5-57bbd2cd3c3b"
      },
      "execution_count": 2,
      "outputs": [
        {
          "output_type": "stream",
          "name": "stdout",
          "text": [
            "성적을 입력하시오. \n",
            "성적입력: 71\n",
            "70점 이상이므로 합격입니다. \n",
            "축하합니다. 합격입니다. \n"
          ]
        }
      ]
    },
    {
      "cell_type": "markdown",
      "source": [
        "3. 근무시간에 따라 초과근무와 정상근무를 판별하는 코드\n",
        " - work_hour\n",
        " - 코드 work_hour > 72"
      ],
      "metadata": {
        "id": "QcFbklsFh4Es"
      }
    },
    {
      "cell_type": "code",
      "source": [
        "print(\"근무시간을 입력하시오. \")\n",
        "work_hour = int(input(\"시간입력: \"))\n",
        "if work_hour > 72:\n",
        "  print(\"#\"*37 )\n",
        "  print(f'# 72시간 이상이므로 초과근무입니다. #')\n",
        "  print(\"#\"*37 )\n",
        "else:\n",
        "  print(\"#\"*37 )\n",
        "  print(f'# 72시간 이하이므로 정상근무입니다. #')\n",
        "  print(\"#\"*37 )"
      ],
      "metadata": {
        "colab": {
          "base_uri": "https://localhost:8080/"
        },
        "id": "qiZ_phJfiSMK",
        "outputId": "907def12-78cd-427d-cefb-1a47d033fc16"
      },
      "execution_count": 8,
      "outputs": [
        {
          "output_type": "stream",
          "name": "stdout",
          "text": [
            "근무시간을 입력하시오. \n",
            "시간입력: 73\n",
            "#####################################\n",
            "# 72시간 이상이므로 초과근무입니다. #\n",
            "#####################################\n"
          ]
        }
      ]
    },
    {
      "cell_type": "markdown",
      "source": [
        "4. 짝수와 홀수를 판별하는 코드\n",
        " - 사용하는 변수 : _ num _\n",
        " - 수식 : (x % 2) != 0:"
      ],
      "metadata": {
        "id": "l-E-LFCrl3Ns"
      }
    },
    {
      "cell_type": "code",
      "source": [
        "print(\"정수를 입력하시오. \")\n",
        "_num_ = int(input(\"정수 입력 \"))\n",
        "if (_num_ % 2) != 0:\n",
        "  print(f'입력하신 {_num_}은 홀수입니다. ')\n",
        "else:\n",
        "  print(f'입력하신 {_num_}은 짝수입니다. ')"
      ],
      "metadata": {
        "colab": {
          "base_uri": "https://localhost:8080/"
        },
        "id": "ja_gGl-5mTWe",
        "outputId": "8ad47fb2-3b1f-4da4-d443-8963d2ec10e5"
      },
      "execution_count": 10,
      "outputs": [
        {
          "output_type": "stream",
          "name": "stdout",
          "text": [
            "정수를 입력하시오. \n",
            "정수 입력 5\n",
            "입력하신 5은 홀수입니다. \n"
          ]
        }
      ]
    },
    {
      "cell_type": "markdown",
      "source": [
        "5. 사용자의 이름과 나이를 물어보고, 답변하는 코드\n",
        " - 사용변수: name, age\n",
        " - 출력할 내용:\n",
        "   - 성명\n",
        "   - 나이 : 20\n",
        "   - (1) 20이하: 프로그래밍을 배우는 최적의 나이입니다.\n",
        "   - (2) 20이상: 아직도 늦지 않았습니다."
      ],
      "metadata": {
        "id": "j2O7VceKnPSL"
      }
    },
    {
      "cell_type": "code",
      "source": [
        "print(\"사용자의 이름을 입력하시오. \")\n",
        "print(\"사용자의 나이를 입력하시오. \")\n",
        "name = (input(\"이름입력: \"))\n",
        "age = int(input(\"나이입력: \"))\n",
        "if age < 20:\n",
        "  print(f'20살 이하이므로 최적의 나이입니다. ')\n",
        "else:\n",
        "  print(f'20살 이상이므로 늦지 않았습니다. ')\n"
      ],
      "metadata": {
        "colab": {
          "base_uri": "https://localhost:8080/"
        },
        "id": "Oyo0Pkukn4X9",
        "outputId": "6ba0d34c-6fc3-4c47-e2db-81fdac832989"
      },
      "execution_count": 26,
      "outputs": [
        {
          "output_type": "stream",
          "name": "stdout",
          "text": [
            "사용자의 이름을 입력하시오. \n",
            "사용자의 나이를 입력하시오. \n",
            "이름입력: 정을형\n",
            "나이입력: 20\n",
            "20살 이상이므로 늦지 않았습니다. \n"
          ]
        }
      ]
    }
  ]
}