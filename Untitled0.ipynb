{
  "nbformat": 4,
  "nbformat_minor": 0,
  "metadata": {
    "colab": {
      "provenance": [],
      "authorship_tag": "ABX9TyMUj5XJCzg/MhaasJQZ2hqE",
      "include_colab_link": true
    },
    "kernelspec": {
      "name": "python3",
      "display_name": "Python 3"
    },
    "language_info": {
      "name": "python"
    }
  },
  "cells": [
    {
      "cell_type": "markdown",
      "metadata": {
        "id": "view-in-github",
        "colab_type": "text"
      },
      "source": [
        "<a href=\"https://colab.research.google.com/github/jeongEulhyeong/23pythen3rd/blob/main/Untitled0.ipynb\" target=\"_parent\"><img src=\"https://colab.research.google.com/assets/colab-badge.svg\" alt=\"Open In Colab\"/></a>"
      ]
    },
    {
      "cell_type": "markdown",
      "source": [
        "3. 사용자로부터 2개의 정수를 받아서 합계를 출력하시오.\n",
        "- 정수 x\n",
        "- 정수 y"
      ],
      "metadata": {
        "id": "aTzdEzcm-xYg"
      }
    },
    {
      "cell_type": "code",
      "execution_count": null,
      "metadata": {
        "colab": {
          "base_uri": "https://localhost:8080/"
        },
        "id": "WIRh-6uB-u8W",
        "outputId": "d94134a2-d820-49ad-8853-b384b05ce2b4"
      },
      "outputs": [
        {
          "output_type": "stream",
          "name": "stdout",
          "text": [
            "정수 2개를 입력하시오.: \n",
            "x의 값을 입력하시오.: 4\n",
            "y의 값을 입력하시오.: 8\n",
            "12\n",
            "4 + 8 의 값은 12이다. \n"
          ]
        }
      ],
      "source": [
        "print(\"정수 2개를 입력하시오.: \")  # 사용자에게 정수 2개를 입력하라는 안내 메시지를 출력합니다.\n",
        "x = int(input(\"x의 값을 입력하시오.: \"))  # 사용자로부터 x의 값을 입력받아 정수형으로 저장합니다.\n",
        "y = int(input(\"y의 값을 입력하시오.: \"))  # 사용자로부터 y의 값을 입력받아 정수형으로 저장합니다.\n",
        "sum = x + y  # 입력받은 두 정수를 더하여 합을 계산합니다.\n",
        "print(sum)  # 합을 출력합니다.\n",
        "print(f'{x} + {y}의 값은 {sum}이다. ')  # x와 y의 값을 출력하고 합을 출력합니다."
      ]
    },
    {
      "cell_type": "markdown",
      "source": [
        "위의 코드에서 print() 함수는 \"정수 2개를 입력하시오.: \"라는 안내 메시지를 출력합니다. 이후 input() 함수를 사용하여 사용자로부터 정수 값을 입력받습니다. 입력된 값은 문자열로 반환되기 때문에 int() 함수를 사용하여 정수형으로 변환하여 변수 x와 y에 저장합니다.\n",
        "\n",
        "다음으로, sum = x + y 코드는 입력받은 두 정수 x와 y를 더하여 합을 계산합니다. 계산된 합은 sum 변수에 저장됩니다.\n",
        "print(sum)은 계산된 합을 출력합니다. 또한, print() 함수를 사용하여 변수 x와 y의 값을 출력하는데, f-string을 사용하여 문자열 안에 변수의 값을 삽입합니다. 따라서 마지막 줄의 출력은 \"x + y의 값은 [합]이다.\" 형식으로 출력됩니다.\n",
        "\n",
        "이를 통해 사용자로부터 입력받은 두 정수를 더하여 합을 계산하고 출력하는 기능을 가진 코드입니"
      ],
      "metadata": {
        "id": "5FIgOxnm6PUs"
      }
    },
    {
      "cell_type": "markdown",
      "source": [
        "4. 부가세를 계산하시오.\n",
        "- 상품의 가격 (price)\n",
        "- 부가세 (vat)"
      ],
      "metadata": {
        "id": "Ep6EWf_2CNCE"
      }
    },
    {
      "cell_type": "code",
      "source": [
        "print(\"상품의 가격을 입력하시오.: \")    # 사용자에게 상품의 가격을 입력하라는 안내 메시지를 출력합니다.\n",
        "price = int(input(\"상품의 가격: \"))   # 사용자로부터 상품의 가격을 입력받아 정수형으로 저장합니다.\n",
        "vat = price * 0.1   # 입력받은 가격에 0.1을 곱하여 부가세를 계산합니다.\n",
        "print(vat)    # 부가세를 출력합니다.\n",
        "print(f'상품의 가격은 {price}원이며, 부가세는 {vat}이다. ')   # 상품의 가격과 부가세를 출력합니다."
      ],
      "metadata": {
        "colab": {
          "base_uri": "https://localhost:8080/"
        },
        "id": "1cX1KCupCn-h",
        "outputId": "b4f93282-0ade-48a9-b684-64414b60408a"
      },
      "execution_count": null,
      "outputs": [
        {
          "output_type": "stream",
          "name": "stdout",
          "text": [
            "상품의 가격을 입력하시오.: \n",
            "상품의 가격: 2000\n",
            "200.0\n",
            "상품의 가격은 2000원이며, 부가세는 200.0이다. \n"
          ]
        }
      ]
    },
    {
      "cell_type": "markdown",
      "source": [
        "위의 코드에서 print() 함수는 \"상품의 가격을 입력하시오.: \"라는 안내 메시지를 출력합니다. 이후 input() 함수를 사용하여 사용자로부터 상품의 가격을 입력받습니다. input() 함수는 사용자로부터 입력을 받는 함수이며, 입력된 값은 문자열로 반환됩니다. 따라서 int() 함수를 사용하여 입력된 값을 정수형으로 변환하여 price 변수에 저장합니다.\n",
        "\n",
        "다음으로, vat = price * 0.1 코드는 입력받은 가격(price)에 0.1을 곱하여 부가세를 계산합니다. 부가세는 가격의 10%로 가정하여 계산하였습니다. 계산된 부가세는 vat 변수에 저장됩니다.\n",
        "print(vat)는 계산된 부가세를 출력합니다. print() 함수를 사용하여 변수 price와 vat의 값을 출력하는데, f-string을 사용하여 문자열 안에 변수의 값을 삽입합니다. 따라서 마지막 줄의 출력은 \"상품의 가격은 [가격]원이며, 부가세는 [부가세]이다.\" 형식으로 출력됩니다.\n",
        "\n",
        "이를 통해 상품의 가격과 부가세를 계산하고 출력하는 기능을 가진 코드입니"
      ],
      "metadata": {
        "id": "Uufpbt8l5lcQ"
      }
    }
  ]
}