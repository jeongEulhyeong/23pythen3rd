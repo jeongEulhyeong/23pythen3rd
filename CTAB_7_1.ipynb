{
  "nbformat": 4,
  "nbformat_minor": 0,
  "metadata": {
    "colab": {
      "provenance": [],
      "authorship_tag": "ABX9TyNuIpfFeHi5bPuPTZk6qHOX",
      "include_colab_link": true
    },
    "kernelspec": {
      "name": "python3",
      "display_name": "Python 3"
    },
    "language_info": {
      "name": "python"
    }
  },
  "cells": [
    {
      "cell_type": "markdown",
      "metadata": {
        "id": "view-in-github",
        "colab_type": "text"
      },
      "source": [
        "<a href=\"https://colab.research.google.com/github/jeongEulhyeong/23pythen3rd/blob/main/CTAB_7_1.ipynb\" target=\"_parent\"><img src=\"https://colab.research.google.com/assets/colab-badge.svg\" alt=\"Open In Colab\"/></a>"
      ]
    },
    {
      "cell_type": "markdown",
      "source": [
        "1. 일한 시간과 시급을 계산하여 출력하는 코드\n",
        " - 일한시간(hours_worked)\n",
        " - 일한날짜(day_worked)\n",
        " - 시급(pay_rate)\n",
        " - 월급(monthly_pay)\n"
      ],
      "metadata": {
        "id": "fCADgnbsn51u"
      }
    },
    {
      "cell_type": "code",
      "source": [
        "hours_worked = int(input(\"일한 시간을 입력하시오.: \"))          # 사용자로부터 일한 시간을 입력받고, 정수로 변환하여 hours_worked 변수에 저장합니다.\n",
        "pay_rate = int(input(\"시급을 입력하시오.(23년 시급 9620): \"))   # 사용자로부터 시급을 입력받고, 정수로 변환하여 pay_rate 변수에 저장합니다.\n",
        "day_worked = int(input(\"일한 날짜를 입력하시오.: \"))            # 사용자로부터 일한 날짜를 입력받고, 정수로 변환하여 day_worked 변수에 저장합니다.\n",
        "day_month = hours_worked * day_worked                           # 하루에 일한 시간과 일한 날짜를 곱하여 한 달에 일한 시간을 계산합니다.\n",
        "monthly_pay = hours_worked * pay_rate * day_worked              # 일한 시간, 시급, 일한 날짜를 곱하여 월급여를 계산합니다.\n",
        "print(f'일한시간은 {hours_worked}시간 이며, 시급은 {pay_rate}원 이고, 월급여는 {monthly_pay}원 입니다.')    # f-string을 사용하여 일한 시간, 시급, 월급여를 출력합니다."
      ],
      "metadata": {
        "colab": {
          "base_uri": "https://localhost:8080/"
        },
        "id": "rP9ZG4m2pD_M",
        "outputId": "0d6ab075-c8aa-4cff-8de1-7f9af102e7df"
      },
      "execution_count": null,
      "outputs": [
        {
          "output_type": "stream",
          "name": "stdout",
          "text": [
            "일한 시간을 입력하시오.: 10\n",
            "시급을 입력하시오.(23년 시급 9620): 9620\n",
            "일한 날짜를 입력하시오.: 25\n",
            "일한시간은 10시간 이며, 시급은 9620원 이고, 월급여는 2405000원 입니다.\n"
          ]
        }
      ]
    },
    {
      "cell_type": "markdown",
      "source": [
        "위 코드에서는 먼저 input() 함수를 사용하여 사용자로부터 일한 시간, 시급, 일한 날짜를 입력받습니다. 각각의 입력값은 int() 함수를 사용하여 정수로 변환한 후, 각각 hours_worked, pay_rate, day_worked 변수에 저장됩니다.\n",
        "\n",
        "다음으로, day_month 변수에는 하루에 일한 시간과 일한 날짜를 곱하여 한 달에 일한 시간을 계산합니다.\n",
        "\n",
        "그리고 monthly_pay 변수에는 일한 시간, 시급, 일한 날짜를 곱하여 월급여를 계산합니다.\n",
        "\n",
        "마지막으로, f-string을 사용하여 입력받은 일한 시간, 시급, 월급여를 포맷하여 출력합니다."
      ],
      "metadata": {
        "id": "Vc9gq9IomkSj"
      }
    },
    {
      "cell_type": "markdown",
      "source": [
        "2. 환전하는 코드를 작성\n",
        " - 변수 mon, usd, exchange\n",
        " - 계산 won * usd"
      ],
      "metadata": {
        "id": "FiEK_Ug0umnY"
      }
    },
    {
      "cell_type": "code",
      "source": [
        "usd = int(input(\"환전할 달러를 입력: \"))       # 사용자로부터 환전할 달러 금액을 입력받고, 정수로 변환하여 usd 변수에 저장합니다.\n",
        "won = int(input(\"달러의 환율금액을 입력(231031: 1372원)\"))    # 사용자로부터 달러의 환율을 입력받고, 정수로 변환하여 won 변수에 저장합니다.\n",
        "exchange = won * usd      # 달러 금액과 환율을 곱하여 원화로 환전된 금액을 계산합니다.\n",
        "print(f'환전하고 싶은 달러금액은 {usd}달러는 환율 {won}으로 계산해서, {exchange}원입니다.')   # f-string을 사용하여 환전할 달러 금액, 환율, 환전된 원화 금액을 출력합니다."
      ],
      "metadata": {
        "colab": {
          "base_uri": "https://localhost:8080/"
        },
        "id": "r3d-iM1Zu9BJ",
        "outputId": "73b019a8-ec42-4857-fe9b-387c9002c26a"
      },
      "execution_count": null,
      "outputs": [
        {
          "output_type": "stream",
          "name": "stdout",
          "text": [
            "환전할 달러를 입력: 500\n",
            "달러의 환율금액을 입력(231031: 1372원)1372\n",
            "환전하고 싶은 달러금액은 500달러는 환율 1372으로 계산해서, 686000원입니다.\n"
          ]
        }
      ]
    },
    {
      "cell_type": "markdown",
      "source": [
        "위 코드에서는 먼저 input() 함수를 사용하여 사용자로부터 환전할 달러 금액과 달러의 환율을 입력받습니다. 각각의 입력값은 int() 함수를 사용하여 정수로 변환한 후, usd 변수와 won 변수에 저장됩니다.\n",
        "\n",
        "다음으로, exchange 변수에는 달러 금액과 환율을 곱하여 원화로 환전된 금액을 계산합니다.\n",
        "\n",
        "마지막으로, f-string을 사용하여 입력받은 달러 금액, 환율, 환전된 원화 금액을 포맷하여 출력합니다."
      ],
      "metadata": {
        "id": "EJaMQQbImzWj"
      }
    },
    {
      "cell_type": "markdown",
      "source": [
        "3. 화씨를 섭씨로 섭씨를 화씨로 변경하는 코드\n",
        " - 화씨를 섭씨로 ℉ = ℃ * 1.8 + 32\n",
        " - 섭씨를 화씨로 ℃ = (℉ - 32) / 1.8\n",
        " - 변수 : 화씨 fahrenheit, 섭씨 celsius"
      ],
      "metadata": {
        "id": "qVyrUIrwyMf-"
      }
    },
    {
      "cell_type": "code",
      "source": [
        "fahrenheit = int(input(\"화씨를 입력하시오.: \"))   # 사용자로부터 화씨 온도를 입력받고, 정수로 변환하여 fahrenheit 변수에 저장합니다.\n",
        "celsius = (fahrenheit - 32) / 1.8   # 화씨를 섭씨로 변환하는 공식을 적용하여 섭씨 온도를 계산하고 celsius 변수에 저장합니다.\n",
        "print(celsius)    # 섭씨 온도를 출력합니다."
      ],
      "metadata": {
        "colab": {
          "base_uri": "https://localhost:8080/"
        },
        "id": "N-aQgYY3zbOl",
        "outputId": "81de358d-4665-4ed7-e0a9-f3bbc083842d"
      },
      "execution_count": null,
      "outputs": [
        {
          "output_type": "stream",
          "name": "stdout",
          "text": [
            "화씨를 입력하시오.: 100\n",
            "37.77777777777778\n"
          ]
        }
      ]
    },
    {
      "cell_type": "markdown",
      "source": [
        "위 코드에서는 먼저 input() 함수를 사용하여 사용자로부터 화씨 온도를 입력받습니다. 입력받은 값은 int() 함수를 사용하여 정수로 변환한 후, fahrenheit 변수에 저장됩니다.\n",
        "\n",
        "다음으로, (fahrenheit - 32) / 1.8라는 공식을 사용하여 화씨를 섭씨로 변환합니다. 이렇게 계산된 섭씨 온도는 celsius 변수에 저장됩니다.\n",
        "\n",
        "마지막으로, print(celsius)를 사용하여 celsius 변수의 값을 출력합니다. 이를 통해 입력받은 화씨 온도에 대응하는 섭씨 온도가 출력됩니다."
      ],
      "metadata": {
        "id": "AFU6doG0nCV7"
      }
    },
    {
      "cell_type": "code",
      "source": [
        "celsius = float(input(\"섭씨를 입력하시오.: \"))    # 사용자로부터 섭씨 온도를 입력받고, 실수로 변환하여 celsius 변수에 저장합니다.\n",
        "fahrenheit = celsius * 1.8 + 32   # 섭씨를 화씨로 변환하는 공식을 적용하여 화씨 온도를 계산하고 fahrenheit 변수에 저장합니다.\n",
        "print(fahrenheit)   # 화씨 온도를 출력합니다."
      ],
      "metadata": {
        "colab": {
          "base_uri": "https://localhost:8080/"
        },
        "id": "6XiSH5io0NS4",
        "outputId": "404d0727-128d-4db7-b9f5-263e49a4f6dc"
      },
      "execution_count": null,
      "outputs": [
        {
          "output_type": "stream",
          "name": "stdout",
          "text": [
            "섭씨를 입력하시오.: 37.77777777777778\n",
            "100.0\n"
          ]
        }
      ]
    },
    {
      "cell_type": "markdown",
      "source": [
        "위 코드에서는 먼저 input() 함수를 사용하여 사용자로부터 섭씨 온도를 입력받습니다. 입력받은 값은 float() 함수를 사용하여 실수로 변환한 후, celsius 변수에 저장됩니다.\n",
        "\n",
        "다음으로, celsius * 1.8 + 32라는 공식을 사용하여 섭씨를 화씨로 변환합니다. 이렇게 계산된 화씨 온도는 fahrenheit 변수에 저장됩니다.\n",
        "\n",
        "마지막으로, print(fahrenheit)를 사용하여 fahrenheit 변수의 값을 출력합니다. 이를 통해 입력받은 섭씨 온도에 대응하는 화씨 온도가 출력됩니다."
      ],
      "metadata": {
        "id": "rJrXQhyonKBU"
      }
    }
  ]
}