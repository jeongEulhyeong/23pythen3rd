{
  "nbformat": 4,
  "nbformat_minor": 0,
  "metadata": {
    "colab": {
      "provenance": [],
      "authorship_tag": "ABX9TyPDR+ICPDCf9VpPH0S6I/nE",
      "include_colab_link": true
    },
    "kernelspec": {
      "name": "python3",
      "display_name": "Python 3"
    },
    "language_info": {
      "name": "python"
    }
  },
  "cells": [
    {
      "cell_type": "markdown",
      "metadata": {
        "id": "view-in-github",
        "colab_type": "text"
      },
      "source": [
        "<a href=\"https://colab.research.google.com/github/jeongEulhyeong/23pythen3rd/blob/main/CT_2nd_code.ipynb\" target=\"_parent\"><img src=\"https://colab.research.google.com/assets/colab-badge.svg\" alt=\"Open In Colab\"/></a>"
      ]
    },
    {
      "cell_type": "markdown",
      "source": [
        "2. 사용자로부터 3개의 변수를 입력받아서 합을 구하고, 평균을 구하는 코드\n",
        " - 변수는 : n1, n2, n3, total, average\n"
      ],
      "metadata": {
        "id": "gNIoDyHurI_2"
      }
    },
    {
      "cell_type": "code",
      "source": [
        "n1 = int(input(\"n1의 값을 입력하시오.:\"))   # 사용자로부터 n1의 값을 입력받습니다.\n",
        "n2 = int(input(\"n2의 값을 입력하시오.:\"))   # 사용자로부터 n2의 값을 입력받습니다.\n",
        "n3 = int(input(\"n3의 값을 입력하시오.:\"))   # 사용자로부터 n3의 값을 입력받습니다.\n",
        "total = n1 + n2 + n3                        # n1, n2, n3의 값을 더하여 합계를 계산합니다.\n",
        "print('합계는 :',total)                     # 합계를 출력합니다.\n",
        "average = total / 3                         # 합계를 3으로 나누어 평균을 계산합니다.\n",
        "print('평균은 :',average)                   # 평균을 출력합니다."
      ],
      "metadata": {
        "colab": {
          "base_uri": "https://localhost:8080/"
        },
        "id": "JbiPZy3ZrKl1",
        "outputId": "c2723d31-c278-41ba-fcc8-ea1ca45cbcbe"
      },
      "execution_count": null,
      "outputs": [
        {
          "output_type": "stream",
          "name": "stdout",
          "text": [
            "n1의 값을 입력하시오.:50\n",
            "n2의 값을 입력하시오.:60\n",
            "n3의 값을 입력하시오.:70\n",
            "합계는 : 180\n",
            "평균은 : 60.0\n"
          ]
        }
      ]
    },
    {
      "cell_type": "markdown",
      "source": [
        "위 코드는 input() 함수를 사용하여 사용자로부터 세 개의 값을 입력받고, int() 함수를 사용하여 입력값을 정수형으로 변환합니다.\n",
        "\n",
        "n1, n2, n3 변수는 각각 사용자로부터 입력받은 값입니다.\n",
        "total 변수는 n1, n2, n3의 값을 더하여 합계를 계산합니다.\n",
        "average 변수는 total 값을 3으로 나누어 평균을 계산합니다.\n",
        "마지막으로, print() 함수를 사용하여 합계와 평균을 출력합니다"
      ],
      "metadata": {
        "id": "zDK2PJqZkdqt"
      }
    }
  ]
}