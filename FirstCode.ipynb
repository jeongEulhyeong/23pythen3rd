{
  "nbformat": 4,
  "nbformat_minor": 0,
  "metadata": {
    "colab": {
      "provenance": [],
      "authorship_tag": "ABX9TyM9ICZqpy9H3Tr6J8DtSx2W",
      "include_colab_link": true
    },
    "kernelspec": {
      "name": "python3",
      "display_name": "Python 3"
    },
    "language_info": {
      "name": "python"
    }
  },
  "cells": [
    {
      "cell_type": "markdown",
      "metadata": {
        "id": "view-in-github",
        "colab_type": "text"
      },
      "source": [
        "<a href=\"https://colab.research.google.com/github/jeongEulhyeong/23pythen3rd/blob/main/FirstCode.ipynb\" target=\"_parent\"><img src=\"https://colab.research.google.com/assets/colab-badge.svg\" alt=\"Open In Colab\"/></a>"
      ]
    },
    {
      "cell_type": "markdown",
      "source": [
        "1 나의 생에 첫번째 코드"
      ],
      "metadata": {
        "id": "OoPPhcD9H5qU"
      }
    },
    {
      "cell_type": "code",
      "execution_count": null,
      "metadata": {
        "colab": {
          "base_uri": "https://localhost:8080/"
        },
        "id": "zYCXXO2GFmXf",
        "outputId": "e1b412ae-7aa5-4c3f-a7f5-c2b0d791fe17"
      },
      "outputs": [
        {
          "output_type": "stream",
          "name": "stdout",
          "text": [
            "hello world!\n"
          ]
        }
      ],
      "source": [
        "print(\"hello world!\") # \"hello world!\"를 출력하는 명령문입니다."
      ]
    },
    {
      "cell_type": "markdown",
      "source": [
        "위 코드는 print() 함수를 사용하여 \"hello world!\"라는 문자열을 출력하는 역할을 합니다. print() 함수는 괄호 안에 있는 값을 화면에 출력하는 역할을 수행합니다. 따라서 위 코드를 실행하면 \"hello world!\"라는 메시지가 출력됩니다.\n",
        "\n",
        "주석은 코드를 설명하기 위해 사용되며, 코드의 이해를 돕는 역할을 합니다. 주석은 # 기호로 시작하며, 해당 줄에 있는 주석은 실행되지 않습니다. 위 코드에서는 # \"hello world!\"를 출력하는 코드입니다.라는 주석을 추가하여 코드의 목적을 설명하고 있습니다."
      ],
      "metadata": {
        "id": "6KDdVy4CjxKV"
      }
    },
    {
      "cell_type": "markdown",
      "source": [
        "2. 두번째 코딩"
      ],
      "metadata": {
        "id": "O5QuRMZzKbf6"
      }
    },
    {
      "cell_type": "code",
      "source": [
        "print(5+5, 6-2, 4*5, 6/2) # 덧셈, 뺄셈, 곱셈, 나눗셈 연산을 수행하고 결과를 출력합니다."
      ],
      "metadata": {
        "colab": {
          "base_uri": "https://localhost:8080/"
        },
        "id": "ZR_e65FFKnzD",
        "outputId": "7f491c01-fe4e-4a2d-db0d-8fe20735f91f"
      },
      "execution_count": null,
      "outputs": [
        {
          "output_type": "stream",
          "name": "stdout",
          "text": [
            "10 4 20 3.0\n"
          ]
        }
      ]
    },
    {
      "cell_type": "markdown",
      "source": [
        "위 코드는 print() 함수를 사용하여 덧셈, 뺄셈, 곱셈, 나눗셈 연산을 수행하고 그 결과를 화면에 출력하는 역할을 합니다. 각각의 연산은 쉼표로 구분되어 있습니다.\n",
        "\n",
        "5+5: 5와 5를 더한 결과인 10이 출력됩니다.\n",
        "6-2: 6에서 2를 뺀 결과인 4가 출력됩니다.\n",
        "4*5: 4와 5를 곱한 결과인 20이 출력됩니다.\n",
        "6/2: 6을 2로 나눈 결과인 3.0이 출력됩니다.\n",
        "이 코드는 다양한 수학 연산을 사용하여 결과를 출력하고 있습니다."
      ],
      "metadata": {
        "id": "NGXXezZ1j-j8"
      }
    }
  ]
}