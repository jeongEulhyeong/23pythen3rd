{
  "nbformat": 4,
  "nbformat_minor": 0,
  "metadata": {
    "colab": {
      "provenance": [],
      "authorship_tag": "ABX9TyOQ1K4LmWsF0qTsj8SAqBiD",
      "include_colab_link": true
    },
    "kernelspec": {
      "name": "python3",
      "display_name": "Python 3"
    },
    "language_info": {
      "name": "python"
    }
  },
  "cells": [
    {
      "cell_type": "markdown",
      "metadata": {
        "id": "view-in-github",
        "colab_type": "text"
      },
      "source": [
        "<a href=\"https://colab.research.google.com/github/jeongEulhyeong/23pythen3rd/blob/main/CTBC_9.ipynb\" target=\"_parent\"><img src=\"https://colab.research.google.com/assets/colab-badge.svg\" alt=\"Open In Colab\"/></a>"
      ]
    },
    {
      "cell_type": "markdown",
      "source": [
        "1. 두가지 이상의 선택, 다방향 선택구조 코딩\n",
        " - 배송료 처리 3가지로 코딩\n",
        " - 변수 : price\n",
        " - 조건 : 10만원 이상 배송비0, 2만원 이상은 3천원, 2만원 이하면 5천원"
      ],
      "metadata": {
        "id": "OwuhYcWirsV_"
      }
    },
    {
      "cell_type": "code",
      "source": [
        "price = int(input(\"구입금액 입력: \"))                # 변수 price 사용자가 정수형 금액입력\n",
        "if price > 100000:                                  # price의 값이 10만원 보다 크거나 같으면\n",
        "  shipping_cost = 0                                  # 선택1. 배송료(shipping_cost)는 0원\n",
        "else:                                                # 그게 아니면\n",
        " if price >= 20000:                                  # 선택2. price 값이 2만원보다 크거나 같으면\n",
        "    shipping_cost = 3000                             # 배송료(shipping_cost)는 3000원\n",
        " else:                                               # 그것도 아니면\n",
        "  shipping_cost = 5000                               # 선택3. 배송료(shipping_cost)는 5000원\n",
        " print(f'배송료는 {shipping_cost}원 입니다.')       # F-String문자 Format으로 최종 배송료 출력"
      ],
      "metadata": {
        "colab": {
          "base_uri": "https://localhost:8080/"
        },
        "id": "AAvokkpQskao",
        "outputId": "92fc1fdf-70f2-4b00-9fb8-f0ea5f280233"
      },
      "execution_count": null,
      "outputs": [
        {
          "name": "stdout",
          "output_type": "stream",
          "text": [
            "구입금액 입력: 120000\n"
          ]
        }
      ]
    },
    {
      "cell_type": "markdown",
      "source": [
        "위 코드에서는 먼저 input() 함수를 사용하여 사용자로부터 구입금액을 입력받습니다. 입력받은 값은 int() 함수를 사용하여 정수로 변환한 후, price 변수에 저장됩니다.\n",
        "\n",
        "다음으로, if price > 100000:라는 조건문을 사용하여 구입금액이 10만원보다 크거나 같은지 확인합니다. 만약 조건이 참(True)이라면, 배송료 shipping_cost는 0원으로 설정됩니다.\n",
        "\n",
        "조건이 거짓(False)인 경우에는 else: 부분이 실행됩니다. 이 안에서 다시 if price >= 20000:이라는 조건문을 사용하여 구입금액이 2만원보다 크거나 같은지 확인합니다. 만약 조건이 참(True)이라면, 배송료 shipping_cost는 3000원으로 설정됩니다.\n",
        "\n",
        "조건이 거짓(False)인 경우에는 else: 부분이 실행되며, 이 경우 배송료 shipping_cost는 5000원으로 설정됩니다.\n",
        "\n",
        "마지막으로, print(f'배송료는 {shipping_cost}원 입니다.')를 사용하여 배송료를 출력합니다."
      ],
      "metadata": {
        "id": "JFOs_20fo23a"
      }
    },
    {
      "cell_type": "markdown",
      "source": [
        "2. 반복구조를 이용한 \"환영합니다.\"를 5번 출력하는 코드작성\n",
        " - 변수: Welcome\n",
        " - 출력내용 : 환영합니다.를 세로로 5번, 10번, 30번"
      ],
      "metadata": {
        "id": "tJzFVl13ynJE"
      }
    },
    {
      "cell_type": "code",
      "source": [
        "print(\"환영합니다.\")    # \"환영합니다.\"를 출력합니다.\n",
        "print(\"환영합니다.\")    # \"환영합니다.\"를 출력합니다.\n",
        "print(\"환영합니다.\")    # \"환영합니다.\"를 출력합니다.\n",
        "print(\"환영합니다.\")    # \"환영합니다.\"를 출력합니다.\n",
        "print(\"환영합니다.\")    # \"환영합니다.\"를 출력합니다."
      ],
      "metadata": {
        "colab": {
          "base_uri": "https://localhost:8080/"
        },
        "id": "zifk2n9QzAYU",
        "outputId": "e3b22530-c95c-4f22-f780-1507020f6bce"
      },
      "execution_count": null,
      "outputs": [
        {
          "output_type": "stream",
          "name": "stdout",
          "text": [
            "환영합니다.\n",
            "환영합니다.\n",
            "환영합니다.\n",
            "환영합니다.\n",
            "환영합니다.\n"
          ]
        }
      ]
    },
    {
      "cell_type": "markdown",
      "source": [
        "위 코드에서는 print() 함수를 사용하여 \"환영합니다.\"라는 메시지를 5번 출력합니다. 각 print() 함수는 독립적으로 실행되므로, 코드를 실행하면 \"환영합니다.\"가 5번 출력됩니다."
      ],
      "metadata": {
        "id": "TECUuLino-2J"
      }
    },
    {
      "cell_type": "code",
      "source": [
        "print(\"환영합니다.\\n\" *5)         # \"환영합니다.\"를 5번 반복하여 출력합니다."
      ],
      "metadata": {
        "colab": {
          "base_uri": "https://localhost:8080/"
        },
        "id": "HDkPkH28zsM0",
        "outputId": "c0152e66-5ba1-4b62-f2a0-90bf1fc8901f"
      },
      "execution_count": null,
      "outputs": [
        {
          "output_type": "stream",
          "name": "stdout",
          "text": [
            "환영합니다.\n",
            "환영합니다.\n",
            "환영합니다.\n",
            "환영합니다.\n",
            "환영합니다.\n",
            "\n"
          ]
        }
      ]
    },
    {
      "cell_type": "markdown",
      "source": [
        "위 코드에서는 \"환영합니다.\\n\" 문자열을 5번 반복하여 출력합니다. \\n은 줄바꿈을 나타내는 이스케이프 시퀀스입니다. 따라서 \"환영합니다.\\n\"이 5번 반복되면서 각 줄마다 줄바꿈이 적용되어 출력됩니다."
      ],
      "metadata": {
        "id": "INO2cc_ZqDaP"
      }
    },
    {
      "cell_type": "code",
      "source": [
        "count = 1                                 # 변수 count를 1로 초기화합니다.\n",
        "while count <= 5:                         # count가 5 이하일 동안 반복합니다.\n",
        "  print(\"(\", count, \")\", \"환영합니다.\")   # count와 \"환영합니다.\"를 함께 출력합니다.\n",
        "  count = count + 1                       # count 변수의 값을 1 증가시킵니다."
      ],
      "metadata": {
        "colab": {
          "base_uri": "https://localhost:8080/"
        },
        "id": "W0o2IGhrzoUF",
        "outputId": "4da8a2b8-2677-4bd3-c58c-27da280ef3c7"
      },
      "execution_count": null,
      "outputs": [
        {
          "output_type": "stream",
          "name": "stdout",
          "text": [
            "( 1 ) 환영합니다.\n",
            "( 2 ) 환영합니다.\n",
            "( 3 ) 환영합니다.\n",
            "( 4 ) 환영합니다.\n",
            "( 5 ) 환영합니다.\n"
          ]
        }
      ]
    },
    {
      "cell_type": "markdown",
      "source": [
        "위 코드에서는 count 변수를 1로 초기화합니다. 그 후 while 반복문을 사용하여 count가 5 이하일 동안 반복합니다.\n",
        "\n",
        "반복문 안에서는 print() 함수를 사용하여 (count) 환영합니다.라는 메시지를 출력합니다. count 변수의 값을 출력하고, \"환영합니다.\" 메시지를 함께 출력합니다.\n",
        "\n",
        "마지막으로 count = count + 1을 사용하여 count 변수의 값을 1 증가시킵니다. 이렇게 함으로써 반복문이 실행될 때마다 count 값이 1씩 증가하면서 반복이 진행됩니다."
      ],
      "metadata": {
        "id": "9eB7HloPqKz3"
      }
    },
    {
      "cell_type": "markdown",
      "source": [
        "3. 0부터 9까지 출력하는 코드 작성\n",
        " - 변수:x"
      ],
      "metadata": {
        "id": "DTIx0sgv1kCk"
      }
    },
    {
      "cell_type": "code",
      "source": [
        "x = 0                   # 변수 x를 0으로 초기화합니다.\n",
        "while x < 10:           # x가 10보다 작을 동안 반복합니다.\n",
        "  print(x, end=' ')     # x를 출력하고 공백 문자로 끝납니다.\n",
        "  x = x + 1             # x 변수의 값을 1 증가시킵니다."
      ],
      "metadata": {
        "colab": {
          "base_uri": "https://localhost:8080/"
        },
        "id": "fd5cFGOv1s4j",
        "outputId": "56b99c77-9d67-4d0c-df8c-32e96f574784"
      },
      "execution_count": null,
      "outputs": [
        {
          "output_type": "stream",
          "name": "stdout",
          "text": [
            "0 1 2 3 4 5 6 7 8 9 "
          ]
        }
      ]
    },
    {
      "cell_type": "markdown",
      "source": [
        "위 코드에서는 x 변수를 0으로 초기화합니다. 그 후 while 반복문을 사용하여 x가 10보다 작을 동안 반복합니다.\n",
        "\n",
        "반복문 안에서는 print() 함수를 사용하여 x 값을 출력하고, end=' '를 사용하여 출력 후 공백 문자로 끝나도록 설정합니다. 이렇게 함으로써 출력되는 숫자들이 공백으로 구분되어 나란히 출력됩니다.\n",
        "\n",
        "마지막으로 x = x + 1을 사용하여 x 값을 1 증가시킵니다. 이렇게 함으로써 반복문이 실행될 때마다 x 값이 1씩 증가하면서 반복이 진행됩니다."
      ],
      "metadata": {
        "id": "FvqJLOSPqTKc"
      }
    },
    {
      "cell_type": "markdown",
      "source": [
        "4. 1부터 10까지 합산하는 코드 작성"
      ],
      "metadata": {
        "id": "cNaSvGq33F1A"
      }
    },
    {
      "cell_type": "code",
      "source": [
        "x =1                      # 변수 x를 1로 초기화합니다.\n",
        "total = 0                 # 변수 total을 0으로 초기화합니다.\n",
        "while x <= 10:            # x가 10보다 작거나 같을 동안 반복합니다.\n",
        "  total += x              # total에 x를 더합니다.\n",
        "  #total = total +1\n",
        "  #x = x + 1\n",
        "  x = x + 1               # x 변수의 값을 1 증가시킵니다.\n",
        "print(total)              # total 값을 출력합니다."
      ],
      "metadata": {
        "colab": {
          "base_uri": "https://localhost:8080/"
        },
        "id": "hkZuFGlZ3Klk",
        "outputId": "5503c045-54fd-44de-c166-17a39e70be54"
      },
      "execution_count": null,
      "outputs": [
        {
          "output_type": "stream",
          "name": "stdout",
          "text": [
            "55\n"
          ]
        }
      ]
    },
    {
      "cell_type": "markdown",
      "source": [
        "위 코드에서는 x 변수를 1로 초기화하고, total 변수를 0으로 초기화합니다. 그 후 while 반복문을 사용하여 x가 10보다 작거나 같을 동안 반복합니다.\n",
        "\n",
        "반복문 안에서는 total += x를 사용하여 total ��수에 x 값을 더합니다. 이렇게 함으로써 반복문이 실행될 때마다 x 값이 1씩 증가하면서 total 변수에 숫자들이 누적되어 더해지게 됩니다.\n",
        "\n",
        "마지막으로 print(total)을 사용하여 total 값을 출력합니다. 이렇게 함으로써 반복문이 종료된 후 최종적으로 더해진 결과가 출력됩니다."
      ],
      "metadata": {
        "id": "01QS3eLaqeL6"
      }
    },
    {
      "cell_type": "code",
      "source": [
        "x = 1             # 변수 x를 1로 초기화합니다.\n",
        "while x <= 9:     # x가 9 이하일 동안 반복합니다.\n",
        "  print(x)        # x를 출력합니다.\n",
        "  x += 1          # x 변수의 값을 1 증가시킵니다."
      ],
      "metadata": {
        "colab": {
          "base_uri": "https://localhost:8080/"
        },
        "id": "Fd8yj77w3y3M",
        "outputId": "c7eaa5da-9ffc-4e89-9c87-1a2374547939"
      },
      "execution_count": null,
      "outputs": [
        {
          "output_type": "stream",
          "name": "stdout",
          "text": [
            "1\n",
            "2\n",
            "3\n",
            "4\n",
            "5\n",
            "6\n",
            "7\n",
            "8\n",
            "9\n",
            "10\n"
          ]
        }
      ]
    },
    {
      "cell_type": "markdown",
      "source": [
        "위 코드에서는 x 변수를 1로 초기화합니다. 그 후 while 반복문을 사용하여 x가 9 이하일 동안 반복합니다.\n",
        "\n",
        "반복문 안에서는 print(x)를 사용하여 x 값을 출력합니다. 이렇게 함으로써 반복문이 실행될 때마다 x 값이 출력됩니다.\n",
        "\n",
        "마지막으로 x += 1을 사용하여 x 값을 1 증가시킵니다. 이렇게 함으로써 반복문이 실행될 때마다 x 값이 1씩 증가하면서 반복이 진행됩니다."
      ],
      "metadata": {
        "id": "44RmcGOsqk4q"
      }
    },
    {
      "cell_type": "markdown",
      "source": [
        "5. 3-6-9 게임(3의 배수 판단): 3의 배수를 3으로 나누면 나머지가 0이 되므로(i mod 3)의 값이 0이먄 박수를 출력, 아니면 숫자 출력하는 코드"
      ],
      "metadata": {
        "id": "9tkJtUTy4OXq"
      }
    },
    {
      "cell_type": "code",
      "source": [
        "for num in range(1, 20):      # 1부터 19까지의 숫자를 반복합니다.\n",
        "  if num % 3 == 0:            # 현재 숫자가 3의 배수인지 확인합니다.\n",
        "    print(\"박수\", end=' ')    # \"박수\"를 출력합니다.\n",
        "  else:                       # 3의 배수가 아닐 경우\n",
        "      print(num, end=' ')     # 현재 숫자를 출력합니다."
      ],
      "metadata": {
        "colab": {
          "base_uri": "https://localhost:8080/"
        },
        "id": "8ArZs5O24qMi",
        "outputId": "2320475b-4390-4a3f-9160-b814cd9894de"
      },
      "execution_count": null,
      "outputs": [
        {
          "output_type": "stream",
          "name": "stdout",
          "text": [
            "1 2 박수 4 5 박수 7 8 박수 10 11 박수 13 14 박수 16 17 박수 19 "
          ]
        }
      ]
    },
    {
      "cell_type": "markdown",
      "source": [
        "위 코드에서는 for 반복문을 사용하여 num 변수가 1부터 19까지의 숫자를 반복하도록 설정합니다.\n",
        "\n",
        "반복문 안에서는 if num % 3 == 0:을 사용하여 현재 숫자인 num이 3의 배수인지 확인합니다. 만약 3의 배수라면 print(\"박수\", end=' ')를 사용하여 \"박수\"라는 문자열을 출력합니다.\n",
        "\n",
        "반대로 3의 배수가 아닌 경우, else 문을 통해 실행됩니다. 이때는 print(num, end=' ')을 사용하여 숫자를 출력합니다.\n",
        "\n",
        "end=' '는 print() 함수의 옵션으로, 출력된 문자 뒤에 공백 문자를 추가하여 출력 결과가 한 줄에 나란히 출력되도록 설정합니다."
      ],
      "metadata": {
        "id": "V8mVRxocqtnB"
      }
    },
    {
      "cell_type": "code",
      "source": [
        "num = 1                       # 변수 num을 1로 초기화합니다.\n",
        "while num <= 30:              # num이 30 이하일 동안 반복합니다.\n",
        "  if num % 3 ==0:             # 현재 숫자가 3의 배수인지 확인합니다.\n",
        "    print(\"박수\", end=' ')    # \"박수\"를 출력합니다.\n",
        "  else:                       # 3의 배수가 아닐 경우\n",
        "    print(num, end=' ')       # 현재 숫자를 출력합니다.\n",
        "  num += 1                    # num 변수의 값을 1 증가시킵니다."
      ],
      "metadata": {
        "colab": {
          "base_uri": "https://localhost:8080/"
        },
        "id": "W_q4a4od5WIy",
        "outputId": "f1c8179f-b4d1-4808-b90d-1804ec45b16c"
      },
      "execution_count": null,
      "outputs": [
        {
          "output_type": "stream",
          "name": "stdout",
          "text": [
            "1 2 박수 4 5 박수 7 8 박수 10 11 박수 13 14 박수 16 17 박수 19 20 박수 22 23 박수 25 26 박수 28 29 박수 "
          ]
        }
      ]
    },
    {
      "cell_type": "markdown",
      "source": [
        "위 코드에서는 num 변수를 1로 초기화합니다. 그 후 while 반복문을 사용하여 num이 30 이하일 동안 반복합니다.\n",
        "\n",
        "반복문 안에서는 if num % 3 == 0:을 사용하여 현재 숫자인 num이 3의 배수인지 확인합니다. 만약 3의 배수라면 print(\"박수\", end=' ')를 사용하여 \"박수\"라는 문자열을 출력합니다.\n",
        "\n",
        "반대로 3의 배수가 아닌 경우, else 문을 통해 실행됩니다. 이때는 print(num, end=' ')을 사용하여 현재 숫자를 출력합니다.\n",
        "\n",
        "마지막으로 num += 1을 사용하여 num 값을 1 증가시킵니다. 이렇게 함으로써 반복문이 실행될 때마다 num 값이 1씩 증가하면서 반복이 진행됩니다."
      ],
      "metadata": {
        "id": "PcCqohF7q6je"
      }
    },
    {
      "cell_type": "markdown",
      "source": [
        "6. 팩토리얼 계산하는 코드 작성\n",
        " - 1! = 1, 2!= 2(1),=2, 3!=3(2)(1)=6\n"
      ],
      "metadata": {
        "id": "eSUCPx_ibt7N"
      }
    },
    {
      "cell_type": "code",
      "source": [
        "i = 5                 # 변수 i를 5로 초기화합니다.\n",
        "factorial = 1         # 변수 factorial을 1로 초기화합니다.\n",
        "while i >=1:          # i가 1 이상일 동안 반복합니다.\n",
        "  factorial *= i      # factorial에 i를 곱합니다.\n",
        "  i -= 1              # i 변수의 값을 1 감소시킵니다.\n",
        "print(factorial)      # factorial 값을 출력합니다."
      ],
      "metadata": {
        "colab": {
          "base_uri": "https://localhost:8080/"
        },
        "id": "FT5mHuiVcZ7s",
        "outputId": "db2e659f-231e-48b3-8a14-98e3635f24e5"
      },
      "execution_count": null,
      "outputs": [
        {
          "output_type": "stream",
          "name": "stdout",
          "text": [
            "120\n"
          ]
        }
      ]
    },
    {
      "cell_type": "markdown",
      "source": [
        "위 코드에서는 i 변수를 5로 초기화하고, factorial 변수를 1로 초기화합니다. 그 후 while 반복문을 사용하여 i가 1 이상일 동안 반복합니다.\n",
        "\n",
        "반복문 안에서는 factorial *= i를 사용하여 factorial 변수에 i를 곱합니다. 이렇게 함으로써 반복문이 실행될 때마다 factorial 값에 i가 곱해지게 됩니다.\n",
        "\n",
        "마지막으로 i -= 1을 사용하여 i 변수의 값을 1 감소시킵니다. 이렇게 함으로써 반복문이 실행될 때마다 i 값이 1씩 감소하면서 반복이 진행됩니다"
      ],
      "metadata": {
        "id": "TtwRwk6krBzn"
      }
    },
    {
      "cell_type": "code",
      "source": [
        "# 계산할 숫자를 입력받습니다.\n",
        "num = int(input(\"팩토리얼을 계산할 숫자를 입력하시오.: \"))    # 사용자로부터 숫자를 입력받고, 정수로 변환하여 num 변수에 저장합니다.\n",
        "\n",
        "# 초기값으로 1을 설정합니다.\n",
        "factorial =1\n",
        "\n",
        "# 팩토리얼 계산을 위한 반복문인 while 입니다.\n",
        "while num >= 1:               # num값이 1보다 작거나 같을 때 하위 문장(코드)를 진행\n",
        "  factorial = factorial * num # 현재 num값을 factorial값에 곱해줍니다.\n",
        "  num -= 1                    # num값을 1씩 감소시킵니다.\n",
        "\n",
        "print(f'계된 팩토리얼 값은 {factorial} 입니다. ')   # 계산된 팩토리얼 값을 출력합니다."
      ],
      "metadata": {
        "colab": {
          "base_uri": "https://localhost:8080/"
        },
        "id": "iVJguXHoc2Y9",
        "outputId": "a3bf05c8-e86c-488e-d168-3d2dce142d92"
      },
      "execution_count": null,
      "outputs": [
        {
          "output_type": "stream",
          "name": "stdout",
          "text": [
            "팩토리얼을 계산할 숫자를 입력하시오.: 5\n",
            "계된 팩토리얼 값은 120 입니다. \n"
          ]
        }
      ]
    },
    {
      "cell_type": "markdown",
      "source": [
        "위 코드에서는 int(input(\"팩토리얼을 계산할 숫자를 입력하시오.: \"))를 사용하여 사용자로부터 숫자를 입력받고, 입력받은 값을 정수로 변환하여 num 변수에 저장합니다.\n",
        "\n",
        "factorial 변수를 1로 초기화합니다.\n",
        "\n",
        "while 반복문을 사용하여 num 값이 1보다 크거나 같을 때까지 반복합니다.\n",
        "\n",
        "반복문 안에서는 factorial = factorial * num을 사용하여 현재 num 값을 factorial 값에 곱해줍니다. 이렇게 함으로써 반복문이 실행될 때마다 factorial 값에 num이 곱해지게 됩니다.\n",
        "\n",
        "마지막으로 num -= 1을 사용하여 num 값을 1씩 감소시킵니다. 이렇게 함으로써 반복문이 실행될 때마다 num 값이 1씩 감소하면서 반복이 진행됩니다.\n",
        "\n",
        "마지막으로 print(f'계산된 팩토리얼 값은 {factorial} 입니다. ')를 사용하여 계산된 팩토리얼 값을 출력합니다."
      ],
      "metadata": {
        "id": "4W5sPn6brMw2"
      }
    },
    {
      "cell_type": "markdown",
      "source": [
        "7. 구구단 출력해주는 코드 작성\n",
        " - 변수 : dan\n",
        " - 반복문(1) : for문 사용\n",
        " - 반복문(2) : while문 사용"
      ],
      "metadata": {
        "id": "6J0fOKFle4_0"
      }
    },
    {
      "cell_type": "code",
      "source": [
        "# for문 사용\n",
        "dan = int(input(\"구구단에서 몇단을 출력할까요: \"))   # 구구단에서 몇 단을 출력할지 사용자로부터 입력받습니다.\n",
        "for i in range(1,10):                                # for문을 사용하여 구구단 출력을 위한 반복문을 선언합니다.\n",
        "  print(dan, \"x\", i, \"=\", dan * i)    # 구구단의 계산식을 출력합니다."
      ],
      "metadata": {
        "colab": {
          "base_uri": "https://localhost:8080/"
        },
        "id": "PYJStr6Ke3Sz",
        "outputId": "ece9b105-cb69-4cf6-80ad-032d342bda7a"
      },
      "execution_count": null,
      "outputs": [
        {
          "output_type": "stream",
          "name": "stdout",
          "text": [
            "구구단에서 몇단을 출력할까요: 4\n",
            "4 x 1 = 4\n",
            "4 x 2 = 8\n",
            "4 x 3 = 12\n",
            "4 x 4 = 16\n",
            "4 x 5 = 20\n",
            "4 x 6 = 24\n",
            "4 x 7 = 28\n",
            "4 x 8 = 32\n",
            "4 x 9 = 36\n"
          ]
        }
      ]
    },
    {
      "cell_type": "markdown",
      "source": [
        "위 코드에서는 int(input(\"구구단에서 몇 단을 출력할까요: \"))를 사용하여 사용자로부터 몇 단을 출력할지 입력받습니다. 입력받은 값을 정수로 변환하여 dan 변수에 저장합니다.\n",
        "\n",
        "for 반복문을 사용하여 i 변수가 1부터 9까지 반복하도록 설정합니다. 이는 구구단에서 곱해지는 수를 의미합니다.\n",
        "\n",
        "반복문 안에서는 print(dan, \"x\", i, \"=\", dan * i)을 사용하여 구구단 계산식인 \"dan x i = dan * i\"를 출력합니다. 이렇게 함으로써 반복문이 실행될 때마다 해당 단의 구구단 계산식이 출력됩니다."
      ],
      "metadata": {
        "id": "atuWFvC6raBD"
      }
    },
    {
      "cell_type": "code",
      "source": [
        "# while문 사용\n",
        "dan = int(input(\"구구단에서 몇단을 출력할래?: \"))   # 구구단에서 몇 단을 출력할지 사용자로부터 입력받습니다.\n",
        "i = 1   # 변수 i를 1로 초기화합니다.\n",
        "while i <=9:    # i가 9 이하인 동안 반복합니다.\n",
        "  print(dan, \"x\", i, \"=\", dan * i)    # dan과 i를 곱한 결과를 출력합니다.\n",
        "  i += 1    # i를 1씩 증가시킵니다."
      ],
      "metadata": {
        "colab": {
          "base_uri": "https://localhost:8080/"
        },
        "id": "I0jJ3qFwf53L",
        "outputId": "1874204d-2ca1-4c6d-e450-45b654722c28"
      },
      "execution_count": null,
      "outputs": [
        {
          "output_type": "stream",
          "name": "stdout",
          "text": [
            "구구단에서 몇단을 출력할래?: 4\n",
            "4 x 1 = 4\n",
            "4 x 2 = 8\n",
            "4 x 3 = 12\n",
            "4 x 4 = 16\n",
            "4 x 5 = 20\n",
            "4 x 6 = 24\n",
            "4 x 7 = 28\n",
            "4 x 8 = 32\n",
            "4 x 9 = 36\n"
          ]
        }
      ]
    },
    {
      "cell_type": "markdown",
      "source": [
        "위 코드에서는 int(input(\"구구단에서 몇 단을 출력할래?: \"))를 사용하여 사용자로부터 몇 단을 출력할지 입력받습니다. 입력받은 값을 정수로 변환하여 dan 변수에 저장합니다.\n",
        "\n",
        "i 변수를 1로 초기화합니다.\n",
        "\n",
        "while 반복문을 사용하여 i 값이 9 이하일 동안 반복합니다. 이는 구구단에서 곱해지는 수를 의미합니다.\n",
        "\n",
        "반복문 안에서는 print(dan, \"x\", i, \"=\", dan * i)을 사용하여 dan과 i를 곱한 결과를 출력합니다. 이렇게 함으로써 반복문이 실행될 때마다 해당 단의 구구단 계산식이 출력됩니다.\n",
        "\n",
        "마지막으로 i += 1을 사용하여 i 값을 1 증가시킵니다. 이렇게 함으로써 반복문이 실행될 때마다 i 값이 1씩 증가하면서 반복이 진행됩니다."
      ],
      "metadata": {
        "id": "cr549mlArmLJ"
      }
    }
  ]
}