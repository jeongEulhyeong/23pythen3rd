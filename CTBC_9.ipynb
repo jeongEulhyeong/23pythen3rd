{
  "nbformat": 4,
  "nbformat_minor": 0,
  "metadata": {
    "colab": {
      "provenance": [],
      "authorship_tag": "ABX9TyP9E6X42sypi7mJ7ak+PfaF",
      "include_colab_link": true
    },
    "kernelspec": {
      "name": "python3",
      "display_name": "Python 3"
    },
    "language_info": {
      "name": "python"
    }
  },
  "cells": [
    {
      "cell_type": "markdown",
      "metadata": {
        "id": "view-in-github",
        "colab_type": "text"
      },
      "source": [
        "<a href=\"https://colab.research.google.com/github/jeongEulhyeong/23pythen3rd/blob/main/CTBC_9.ipynb\" target=\"_parent\"><img src=\"https://colab.research.google.com/assets/colab-badge.svg\" alt=\"Open In Colab\"/></a>"
      ]
    },
    {
      "cell_type": "markdown",
      "source": [
        "1. 두가지 이상의 선택, 다방향 선택구조 코딩\n",
        " - 배송료 처리 3가지로 코딩\n",
        " - 변수 : price\n",
        " - 조건 : 10만원 이상 배송비0, 2만원 이상은 3천원, 2만원 이하면 5천원"
      ],
      "metadata": {
        "id": "OwuhYcWirsV_"
      }
    },
    {
      "cell_type": "code",
      "source": [
        "price = int(input(\"구입금액 입력: \"))                # 변수 price 사용자가 정수형 금액입력\n",
        "if price > 100000:                                  # price의 값이 10만원 보다 크거나 같으면\n",
        "  shipping_cost = 0                                  # 선택1. 배송료(shipping_cost)는 0원\n",
        "else:                                                # 그게 아니면\n",
        " if price >= 20000:                                  # 선택2. price 값이 2만원보다 크거나 같으면\n",
        "    shipping_cost = 3000                             # 배송료(shipping_cost)는 3000원\n",
        " else:                                               # 그것도 아니면\n",
        "  shipping_cost = 5000                               # 선택3. 배송료(shipping_cost)는 5000원\n",
        " print(f'배송료는 {shipping_cost}원 입니다.')       # F-String문자 Format으로 최종 배송료 출력"
      ],
      "metadata": {
        "colab": {
          "base_uri": "https://localhost:8080/"
        },
        "id": "AAvokkpQskao",
        "outputId": "92fc1fdf-70f2-4b00-9fb8-f0ea5f280233"
      },
      "execution_count": 28,
      "outputs": [
        {
          "name": "stdout",
          "output_type": "stream",
          "text": [
            "구입금액 입력: 120000\n"
          ]
        }
      ]
    },
    {
      "cell_type": "markdown",
      "source": [
        "2. 반복구조를 이용한 \"환영합니다.\"를 5번 출력하는 코드작성\n",
        " - 변수: Welcome\n",
        " - 출력내용 : 환영합니다.를 세로로 5번, 10번, 30번"
      ],
      "metadata": {
        "id": "tJzFVl13ynJE"
      }
    },
    {
      "cell_type": "code",
      "source": [
        "print(\"환영합니다.\")\n",
        "print(\"환영합니다.\")\n",
        "print(\"환영합니다.\")\n",
        "print(\"환영합니다.\")\n",
        "print(\"환영합니다.\")"
      ],
      "metadata": {
        "colab": {
          "base_uri": "https://localhost:8080/"
        },
        "id": "zifk2n9QzAYU",
        "outputId": "e3b22530-c95c-4f22-f780-1507020f6bce"
      },
      "execution_count": 29,
      "outputs": [
        {
          "output_type": "stream",
          "name": "stdout",
          "text": [
            "환영합니다.\n",
            "환영합니다.\n",
            "환영합니다.\n",
            "환영합니다.\n",
            "환영합니다.\n"
          ]
        }
      ]
    },
    {
      "cell_type": "code",
      "source": [
        "print(\"환영합니다.\\n\" *5)"
      ],
      "metadata": {
        "colab": {
          "base_uri": "https://localhost:8080/"
        },
        "id": "HDkPkH28zsM0",
        "outputId": "c0152e66-5ba1-4b62-f2a0-90bf1fc8901f"
      },
      "execution_count": 32,
      "outputs": [
        {
          "output_type": "stream",
          "name": "stdout",
          "text": [
            "환영합니다.\n",
            "환영합니다.\n",
            "환영합니다.\n",
            "환영합니다.\n",
            "환영합니다.\n",
            "\n"
          ]
        }
      ]
    },
    {
      "cell_type": "code",
      "source": [
        "count = 1\n",
        "while count <= 5:\n",
        "  print(\"(\", count, \")\", \"환영합니다.\")\n",
        "  count = count + 1"
      ],
      "metadata": {
        "colab": {
          "base_uri": "https://localhost:8080/"
        },
        "id": "W0o2IGhrzoUF",
        "outputId": "4da8a2b8-2677-4bd3-c58c-27da280ef3c7"
      },
      "execution_count": 34,
      "outputs": [
        {
          "output_type": "stream",
          "name": "stdout",
          "text": [
            "( 1 ) 환영합니다.\n",
            "( 2 ) 환영합니다.\n",
            "( 3 ) 환영합니다.\n",
            "( 4 ) 환영합니다.\n",
            "( 5 ) 환영합니다.\n"
          ]
        }
      ]
    },
    {
      "cell_type": "markdown",
      "source": [
        "3. 0부터 0까지 출력하는 코드 작성\n",
        " - 변수:x"
      ],
      "metadata": {
        "id": "DTIx0sgv1kCk"
      }
    },
    {
      "cell_type": "code",
      "source": [
        "x = 0\n",
        "while x < 10:\n",
        "  print(x, end=' ')\n",
        "  x = x + 1"
      ],
      "metadata": {
        "colab": {
          "base_uri": "https://localhost:8080/"
        },
        "id": "fd5cFGOv1s4j",
        "outputId": "56b99c77-9d67-4d0c-df8c-32e96f574784"
      },
      "execution_count": 37,
      "outputs": [
        {
          "output_type": "stream",
          "name": "stdout",
          "text": [
            "0 1 2 3 4 5 6 7 8 9 "
          ]
        }
      ]
    },
    {
      "cell_type": "markdown",
      "source": [
        "4. 1부터 10까지 합산하는 코드 작성"
      ],
      "metadata": {
        "id": "cNaSvGq33F1A"
      }
    },
    {
      "cell_type": "code",
      "source": [
        "x =1\n",
        "total = 0\n",
        "while x <= 10:\n",
        "  total += x\n",
        "  #total = total +1\n",
        "  #x = x + 1\n",
        "  x = x + 1\n",
        "print(total)"
      ],
      "metadata": {
        "colab": {
          "base_uri": "https://localhost:8080/"
        },
        "id": "hkZuFGlZ3Klk",
        "outputId": "5503c045-54fd-44de-c166-17a39e70be54"
      },
      "execution_count": 41,
      "outputs": [
        {
          "output_type": "stream",
          "name": "stdout",
          "text": [
            "55\n"
          ]
        }
      ]
    },
    {
      "cell_type": "code",
      "source": [
        "x = 1\n",
        "while x <= 9:\n",
        "  print(x)\n",
        "  x += 1"
      ],
      "metadata": {
        "colab": {
          "base_uri": "https://localhost:8080/"
        },
        "id": "Fd8yj77w3y3M",
        "outputId": "c7eaa5da-9ffc-4e89-9c87-1a2374547939"
      },
      "execution_count": 40,
      "outputs": [
        {
          "output_type": "stream",
          "name": "stdout",
          "text": [
            "1\n",
            "2\n",
            "3\n",
            "4\n",
            "5\n",
            "6\n",
            "7\n",
            "8\n",
            "9\n",
            "10\n"
          ]
        }
      ]
    },
    {
      "cell_type": "markdown",
      "source": [
        "5. 3-6-9 게임(3의 배수 판단): 3의 배수를 3으로 나누면 나머지가 0이 되므로(i mod 3)의 값이 0이먄 박수를 출력, 아니면 숫자 출력하는 코드"
      ],
      "metadata": {
        "id": "9tkJtUTy4OXq"
      }
    },
    {
      "cell_type": "code",
      "source": [
        "for num in range(1, 20):\n",
        "  if num % 3 == 0:\n",
        "    print(\"박수\", end=' ')\n",
        "  else:\n",
        "      print(num, end=' ')"
      ],
      "metadata": {
        "colab": {
          "base_uri": "https://localhost:8080/"
        },
        "id": "8ArZs5O24qMi",
        "outputId": "2320475b-4390-4a3f-9160-b814cd9894de"
      },
      "execution_count": 45,
      "outputs": [
        {
          "output_type": "stream",
          "name": "stdout",
          "text": [
            "1 2 박수 4 5 박수 7 8 박수 10 11 박수 13 14 박수 16 17 박수 19 "
          ]
        }
      ]
    },
    {
      "cell_type": "code",
      "source": [
        "num = 1\n",
        "while num <= 30:\n",
        "  if num % 3 ==0:\n",
        "    print(\"박수\", end=' ')\n",
        "  else:\n",
        "    print(num, end=' ')\n",
        "  num += 1"
      ],
      "metadata": {
        "colab": {
          "base_uri": "https://localhost:8080/"
        },
        "id": "W_q4a4od5WIy",
        "outputId": "f1c8179f-b4d1-4808-b90d-1804ec45b16c"
      },
      "execution_count": 46,
      "outputs": [
        {
          "output_type": "stream",
          "name": "stdout",
          "text": [
            "1 2 박수 4 5 박수 7 8 박수 10 11 박수 13 14 박수 16 17 박수 19 20 박수 22 23 박수 25 26 박수 28 29 박수 "
          ]
        }
      ]
    }
  ]
}