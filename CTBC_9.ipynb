{
  "nbformat": 4,
  "nbformat_minor": 0,
  "metadata": {
    "colab": {
      "provenance": [],
      "authorship_tag": "ABX9TyPOQ8tzqlHVHreANI6gkkdX",
      "include_colab_link": true
    },
    "kernelspec": {
      "name": "python3",
      "display_name": "Python 3"
    },
    "language_info": {
      "name": "python"
    }
  },
  "cells": [
    {
      "cell_type": "markdown",
      "metadata": {
        "id": "view-in-github",
        "colab_type": "text"
      },
      "source": [
        "<a href=\"https://colab.research.google.com/github/jeongEulhyeong/23pythen3rd/blob/main/CTBC_9.ipynb\" target=\"_parent\"><img src=\"https://colab.research.google.com/assets/colab-badge.svg\" alt=\"Open In Colab\"/></a>"
      ]
    },
    {
      "cell_type": "markdown",
      "source": [
        "1. 두가지 이상의 선택, 다방향 선택구조 코딩\n",
        " - 배송료 처리 3가지로 코딩\n",
        " - 변수 : price\n",
        " - 조건 : 10만원 이상 배송비0, 2만원 이상은 3천원, 2만원 이하면 5천원"
      ],
      "metadata": {
        "id": "OwuhYcWirsV_"
      }
    },
    {
      "cell_type": "code",
      "source": [
        "price = int(input(\"구입금액 입력: \"))                # 변수 price 사용자가 정수형 금액입력\n",
        "if price > 100000:                                  # price의 값이 10만원 보다 크거나 같으면\n",
        "  shipping_cost = 0                                  # 선택1. 배송료(shipping_cost)는 0원\n",
        "else:                                                # 그게 아니면\n",
        " if price >= 20000:                                  # 선택2. price 값이 2만원보다 크거나 같으면\n",
        "    shipping_cost = 3000                             # 배송료(shipping_cost)는 3000원\n",
        " else:                                               # 그것도 아니면\n",
        "  shipping_cost = 5000                               # 선택3. 배송료(shipping_cost)는 5000원\n",
        " print(f'배송료는 {shipping_cost}원 입니다.')       # F-String문자 Format으로 최종 배송료 출력"
      ],
      "metadata": {
        "colab": {
          "base_uri": "https://localhost:8080/"
        },
        "id": "AAvokkpQskao",
        "outputId": "92fc1fdf-70f2-4b00-9fb8-f0ea5f280233"
      },
      "execution_count": null,
      "outputs": [
        {
          "name": "stdout",
          "output_type": "stream",
          "text": [
            "구입금액 입력: 120000\n"
          ]
        }
      ]
    },
    {
      "cell_type": "markdown",
      "source": [
        "위의 코드에서 price 변수는 사용자로부터 구입 금액을 입력받아 정수형으로 저장합니다.\n",
        "\n",
        "다음으로, if 문을 사용하여 구입 금액에 따라 배송료를 계산합니다. 첫 번째 조건문은 price > 100000으로, 구입 금액이 100,000원보다 큰 경우 배송료를 0원으로 설정합니다.\n",
        "\n",
        "만약 첫 번째 조건문의 결과가 False인 경우, 두 번째 조건문인 if price >= 20000을 확인합니다. 이 조건문은 구입 금액이 20,000원 이상인 경우 배송료를 3,000원으로 설정합니다.\n",
        "\n",
        "마지막으로, 위의 두 조건문의 결과가 모두 False인 경우는 구입 금액이 20,000원 미만인 상황이므로 배송료를 5,000원으로 설정합니다.\n",
        "\n",
        "마지막 줄의 print() 함수는 f-string을 사용하여 최종 배송료를 출력합니다. 변수 shipping_cost의 값을 출력하면서 \"배송료는 [배송료]원 입니다.\"라는 형식으로 출력됩니다.\n",
        "\n",
        "이를 통해 구입 금액에 따라 배송료를 계산하고 출력하는 기능을 가진 코드입니다."
      ],
      "metadata": {
        "id": "Ul-ZrlsS62RA"
      }
    },
    {
      "cell_type": "markdown",
      "source": [
        "2. 반복구조를 이용한 \"환영합니다.\"를 5번 출력하는 코드작성\n",
        " - 변수: Welcome\n",
        " - 출력내용 : 환영합니다.를 세로로 5번, 10번, 30번"
      ],
      "metadata": {
        "id": "tJzFVl13ynJE"
      }
    },
    {
      "cell_type": "code",
      "source": [
        "print(\"환영합니다.\")  # \"환영합니다.\"라는 문구를 출력합니다.\n",
        "print(\"환영합니다.\")  # \"환영합니다.\"라는 문구를 출력합니다.\n",
        "print(\"환영합니다.\")  # \"환영합니다.\"라는 문구를 출력합니다.\n",
        "print(\"환영합니다.\")  # \"환영합니다.\"라는 문구를 출력합니다.\n",
        "print(\"환영합니다.\")  # \"환영합니다.\"라는 문구를 출력합니다."
      ],
      "metadata": {
        "colab": {
          "base_uri": "https://localhost:8080/"
        },
        "id": "zifk2n9QzAYU",
        "outputId": "e3b22530-c95c-4f22-f780-1507020f6bce"
      },
      "execution_count": null,
      "outputs": [
        {
          "output_type": "stream",
          "name": "stdout",
          "text": [
            "환영합니다.\n",
            "환영합니다.\n",
            "환영합니다.\n",
            "환영합니다.\n",
            "환영합니다.\n"
          ]
        }
      ]
    },
    {
      "cell_type": "markdown",
      "source": [
        "위의 코드에서 print() 함수를 사용하여 \"환영합니다.\"라는 문구를 5번 반복하여 출력합니다.\n",
        "\n",
        "따라서, 위의 코드는 \"환영합니다.\"라는 문구를 5번 출력하는 기능을 가진 코드입니다."
      ],
      "metadata": {
        "id": "p7Q3D5nv7CHe"
      }
    },
    {
      "cell_type": "code",
      "source": [
        "print(\"환영합니다.\" * 5)  # \"환영합니다.\"라는 문구를 5번 반복하여 출력합니다."
      ],
      "metadata": {
        "colab": {
          "base_uri": "https://localhost:8080/"
        },
        "id": "HDkPkH28zsM0",
        "outputId": "c0152e66-5ba1-4b62-f2a0-90bf1fc8901f"
      },
      "execution_count": null,
      "outputs": [
        {
          "output_type": "stream",
          "name": "stdout",
          "text": [
            "환영합니다.\n",
            "환영합니다.\n",
            "환영합니다.\n",
            "환영합니다.\n",
            "환영합니다.\n",
            "\n"
          ]
        }
      ]
    },
    {
      "cell_type": "markdown",
      "source": [
        "위의 코드에서 \"환영합니다.\" * 5는 문자열 \"환영합니다.\"를 5번 반복하는 연산입니다. 이 연산을 통해 \"환영합니다.\"라는 문자열이 5번 연이어 출력됩니다.\n",
        "\n",
        "따라서, print(\"환영합니다.\" * 5) 코드는 \"환영합니다.\"라는 문구를 5번 출력하는 기능을 가진 코드입니다"
      ],
      "metadata": {
        "id": "Px2t4_YQ7QF2"
      }
    },
    {
      "cell_type": "code",
      "source": [
        "count = 1  # 변수 count를 1로 초기화합니다.\n",
        "\n",
        "while count <= 5:  # count가 5보다 작거나 같을 때까지 반복합니다.\n",
        "    print(\"(\", count, \")\", \"환영합니다.\")  # count와 \"환영합니다.\" 문구를 함께 출력합니다.\n",
        "    count = count + 1  # count를 1 증가시킵니다."
      ],
      "metadata": {
        "colab": {
          "base_uri": "https://localhost:8080/"
        },
        "id": "W0o2IGhrzoUF",
        "outputId": "4da8a2b8-2677-4bd3-c58c-27da280ef3c7"
      },
      "execution_count": null,
      "outputs": [
        {
          "output_type": "stream",
          "name": "stdout",
          "text": [
            "( 1 ) 환영합니다.\n",
            "( 2 ) 환영합니다.\n",
            "( 3 ) 환영합니다.\n",
            "( 4 ) 환영합니다.\n",
            "( 5 ) 환영합니다.\n"
          ]
        }
      ]
    },
    {
      "cell_type": "markdown",
      "source": [
        "위의 코드에서 count 변수는 반복 횟수를 나타내는 변수로, 초기값은 1로 설정됩니다.\n",
        "\n",
        "while 문은 조건식 count <= 5가 참(True)인 동안 아래의 코드 블록을 반복 실행합니다. 이 조건은 count 변수가 5보다 작거나 같은 경우를 나타냅니다.\n",
        "\n",
        "반복되는 코드 블록에서는 print() 함수를 사용하여 \"(\", count, \")\", \"환영합니다.\"라는 문구를 출력합니다. count 변수의 값을 출력하고, \"환영합니다.\" 문구를 함께 출력합니다.\n",
        "\n",
        "마지막으로, count = count + 1 문장은 count 변수를 1씩 증가시킵니다. 이렇게 함으로써 반복이 진행될 때마다 count 변수의 값이 1씩 증가하게 됩니다.\n",
        "\n",
        "따라서, 위의 코드는 \"(\", count, \")\", \"환영합니다.\" 문구를 5번 반복하여 출력하는 기능을 가진 코드입니다."
      ],
      "metadata": {
        "id": "z-CIxb3Q7bh2"
      }
    },
    {
      "cell_type": "markdown",
      "source": [
        "3. 0부터 0까지 출력하는 코드 작성\n",
        " - 변수:x"
      ],
      "metadata": {
        "id": "DTIx0sgv1kCk"
      }
    },
    {
      "cell_type": "code",
      "source": [
        "count = 1  # 변수 count를 1로 초기화합니다.\n",
        "\n",
        "while count <= 5:  # count가 5보다 작거나 같을 때까지 반복합니다.\n",
        "    print(\"(\", count, \")\", \"환영합니다.\")  # count와 \"환영합니다.\" 문구를 함께 출력합니다.\n",
        "    count = count + 1  # count를 1 증가시킵니다."
      ],
      "metadata": {
        "colab": {
          "base_uri": "https://localhost:8080/"
        },
        "id": "fd5cFGOv1s4j",
        "outputId": "56b99c77-9d67-4d0c-df8c-32e96f574784"
      },
      "execution_count": null,
      "outputs": [
        {
          "output_type": "stream",
          "name": "stdout",
          "text": [
            "0 1 2 3 4 5 6 7 8 9 "
          ]
        }
      ]
    },
    {
      "cell_type": "markdown",
      "source": [
        "위의 코드에서 count 변수는 반복 횟수를 나타내는 변수로, 초기값은 1로 설정됩니다.\n",
        "\n",
        "while 문은 조건식 count <= 5가 참(True)인 동안 아래의 코드 블록을 반복 실행합니다. 이 조건은 count 변수가 5보다 작거나 같은 경우를 나타냅니다.\n",
        "\n",
        "반복되는 코드 블록에서는 print() 함수를 사용하여 \"(\", count, \")\", \"환영합니다.\"라는 문구를 출력합니다. count 변수의 값을 출력하고, \"환영합니다.\" 문구를 함께 출력합니다.\n",
        "\n",
        "마지막으로, count = count + 1 문장은 count 변수를 1씩 증가시킵니다. 이렇게 함으로써 반복이 진행될 때마다 count 변수의 값이 1씩 증가하게 됩니다.\n",
        "\n",
        "따라서, 위의 코드는 \"(\", count, \")\", \"환영합니다.\" 문구를 5번 반복하여 출력하는 기능을 가진 코드입니다."
      ],
      "metadata": {
        "id": "8z6GZxxo7nmO"
      }
    },
    {
      "cell_type": "markdown",
      "source": [
        "4. 1부터 10까지 합산하는 코드 작성"
      ],
      "metadata": {
        "id": "cNaSvGq33F1A"
      }
    },
    {
      "cell_type": "code",
      "source": [
        "x = 1  # 변수 x를 1로 초기화합니다.\n",
        "total = 0  # 변수 total을 0으로 초기화합니다.\n",
        "\n",
        "while x <= 10:  # x가 10보다 작거나 같을 때까지 반복합니다.\n",
        "    total += x  # total에 x를 더합니다.\n",
        "    # total = total + x 와 같은 의미입니다.\n",
        "    # total 변수에는 이전까지의 x 값들의 누적 합이 저장됩니다.\n",
        "    x = x + 1  # x를 1 증가시킵니다.\n",
        "\n",
        "print(total)  # total을 출력합니다."
      ],
      "metadata": {
        "colab": {
          "base_uri": "https://localhost:8080/"
        },
        "id": "hkZuFGlZ3Klk",
        "outputId": "5503c045-54fd-44de-c166-17a39e70be54"
      },
      "execution_count": null,
      "outputs": [
        {
          "output_type": "stream",
          "name": "stdout",
          "text": [
            "55\n"
          ]
        }
      ]
    },
    {
      "cell_type": "markdown",
      "source": [
        "위의 코드에서 x 변수는 반복할 숫자를 나타내는 변수로, 초기값은 1로 설정됩니다. total 변수는 숫자들의 누적 합을 저장하는 변수로, 초기값은 0으로 설정됩니다.\n",
        "\n",
        "while 문은 조건식 x <= 10이 참(True)인 동안 아래의 코드 블록을 반복 실행합니다. 이 조건은 x 변수가 10보다 작거나 같은 경우를 나타냅니다.\n",
        "\n",
        "반복되는 코드 블록에서는 total += x 문장을 사용하여 total 변수에 x 값을 더해줍니다. 이렇게 함으로써 total 변수에는 이전까지의 x 값들의 누적 합이 저장됩니다.\n",
        "\n",
        "마지막으로, x = x + 1 문장은 x 변수를 1씩 증가시킵니다. 이렇게 함으로써 반복이 진행될 때마다 x 변수의 값이 1씩 증가하게 됩니다.\n",
        "\n",
        "반복이 완료된 후에는 print(total) 문장을 사용하여 total 변수의 값을 출력합니다. 따라서, 위의 코드는 1부터 10까지의 숫자를 더한 결과인 총합을 출력하는 기능을 가진 코드입니다."
      ],
      "metadata": {
        "id": "S-Ym8EVb8QNH"
      }
    },
    {
      "cell_type": "code",
      "source": [
        "x = 1  # 변수 x를 1로 초기화합니다.\n",
        "\n",
        "while x <= 9:  # x가 9보다 작거나 같을 때까지 반복합니다.\n",
        "    print(x)  # x 값을 출력합니다.\n",
        "    x += 1  # x를 1 증가시킵니다."
      ],
      "metadata": {
        "colab": {
          "base_uri": "https://localhost:8080/"
        },
        "id": "Fd8yj77w3y3M",
        "outputId": "c7eaa5da-9ffc-4e89-9c87-1a2374547939"
      },
      "execution_count": null,
      "outputs": [
        {
          "output_type": "stream",
          "name": "stdout",
          "text": [
            "1\n",
            "2\n",
            "3\n",
            "4\n",
            "5\n",
            "6\n",
            "7\n",
            "8\n",
            "9\n",
            "10\n"
          ]
        }
      ]
    },
    {
      "cell_type": "markdown",
      "source": [
        "위의 코드에서 x 변수는 반복할 숫자를 나타내는 변수로, 초기값은 1로 설정됩니다.\n",
        "\n",
        "while 문은 조건식 x <= 9가 참(True)인 동안 아래의 코드 블록을 반복 실행합니다. 이 조건은 x 변수가 9보다 작거나 같은 경우를 나타냅니다.\n",
        "\n",
        "반복되는 코드 블록에서는 print(x) 문장을 사용하여 x 변수의 값을 출력합니다.\n",
        "\n",
        "마지막으로, x += 1 문장은 x 변수를 1씩 증가시킵니다. 이렇게 함으로써 반복이 진행될 때마다 x 변수의 값이 1씩 증가하게 됩니다.\n",
        "\n",
        "따라서, 위의 코드는 1부터 9까지의 숫자를 출력하는 기능을 가진 코드입니다."
      ],
      "metadata": {
        "id": "vsQR6m2O8b6w"
      }
    },
    {
      "cell_type": "markdown",
      "source": [
        "5. 3-6-9 게임(3의 배수 판단): 3의 배수를 3으로 나누면 나머지가 0이 되므로(i mod 3)의 값이 0이먄 박수를 출력, 아니면 숫자 출력하는 코드"
      ],
      "metadata": {
        "id": "9tkJtUTy4OXq"
      }
    },
    {
      "cell_type": "code",
      "source": [
        "for num in range(1, 20):  # 1부터 19까지의 숫자에 대해 반복합니다.\n",
        "    if num % 3 == 0:  # 숫자가 3의 배수인지 확인합니다.\n",
        "        print(\"박수\", end=' ')  # 3의 배수인 경우 \"박수\"를 출력합니다.\n",
        "    else:\n",
        "        print(num, end=' ')  # 3의 배수가 아닌 경우 숫자를 출력합니다."
      ],
      "metadata": {
        "colab": {
          "base_uri": "https://localhost:8080/"
        },
        "id": "8ArZs5O24qMi",
        "outputId": "2320475b-4390-4a3f-9160-b814cd9894de"
      },
      "execution_count": null,
      "outputs": [
        {
          "output_type": "stream",
          "name": "stdout",
          "text": [
            "1 2 박수 4 5 박수 7 8 박수 10 11 박수 13 14 박수 16 17 박수 19 "
          ]
        }
      ]
    },
    {
      "cell_type": "markdown",
      "source": [
        "for 문은 range(1, 20)을 통해 1부터 19까지의 숫자에 대해 반복합니다.\n",
        "\n",
        "반복되는 코드 블록에서는 if 문을 사용하여 num 변수가 3의 배수인지 확인합니다. 이때, num % 3 == 0는 num을 3으로 나눈 나머지가 0인지를 검사하는 조건식입니다. 즉, num이 3의 배수인 경우에 조건이 참(True)이 됩니다.\n",
        "\n",
        "만약 num이 3의 배수인 경우, print(\"박수\", end=' ') 문장이 실행되어 \"박수\"라는 문자열을 출력합니다. end=' '를 사용하여 출력 후에 공백으로 구분합니다.\n",
        "\n",
        "반대로, num이 3의 배수가 아닌 경우, else 블록이 실행되어 print(num, end=' ') 문장이 실행됩니다. 이때, num 변수의 값을 출력합니다.\n",
        "\n",
        "따라서, 위의 코드는 1부터 19까지의 숫자를 반복하면서 숫자가 3의 배수인 경우에는 \"박수\"라는 문자열을 출력하고, 그렇지 않은 경우에는 숫자를 출력하는 기능을 가진 코드입니다."
      ],
      "metadata": {
        "id": "d343FtWL8lWe"
      }
    },
    {
      "cell_type": "code",
      "source": [
        "num = 1  # 변수 num을 1로 초기화합니다.\n",
        "\n",
        "while num <= 30:  # num이 30보다 작거나 같을 때까지 반복합니다.\n",
        "    if num % 3 == 0:  # 숫자가 3의 배수인지 확인합니다.\n",
        "        print(\"박수\", end=' ')  # 3의 배수인 경우 \"박수\"를 출력합니다.\n",
        "    else:\n",
        "        print(num, end=' ')  # 3의 배수가 아닌 경우 숫자를 출력합니다.\n",
        "    num += 1  # num을 1 증가시킵니다."
      ],
      "metadata": {
        "colab": {
          "base_uri": "https://localhost:8080/"
        },
        "id": "W_q4a4od5WIy",
        "outputId": "f1c8179f-b4d1-4808-b90d-1804ec45b16c"
      },
      "execution_count": null,
      "outputs": [
        {
          "output_type": "stream",
          "name": "stdout",
          "text": [
            "1 2 박수 4 5 박수 7 8 박수 10 11 박수 13 14 박수 16 17 박수 19 20 박수 22 23 박수 25 26 박수 28 29 박수 "
          ]
        }
      ]
    },
    {
      "cell_type": "markdown",
      "source": [
        "위의 코드에서 num 변수는 반복할 숫자를 나타내는 변수로, 초기값은 1로 설정됩니다.\n",
        "\n",
        "while 문은 조건식 num <= 30이 참(True)인 동안 아래의 코드 블록을 반복 실행합니다. 이 조건은 num 변수가 30보다 작거나 같은 경우를 나타냅니다.\n",
        "\n",
        "반복되는 코드 블록에서는 if 문을 사용하여 num 변수가 3의 배수인지 확인합니다. 이때, num % 3 == 0는 num을 3으로 나눈 나머지가 0인지를 검사하는 조건식입니다. 즉, num이 3의 배수인 경우에 조건이 참(True)이 됩니다.\n",
        "\n",
        "만약 num이 3의 배수인 경우, print(\"박수\", end=' ') 문장이 실행되어 \"박수\"라는 문자열을 출력합니다. end=' '를 사용하여 출력 후에 공백으로 구분합니다.\n",
        "\n",
        "반대로, num이 3의 배수가 아닌 경우, else 블록이 실행되어 print(num, end=' ') 문장이 실행됩니다. 이때, num 변수의 값을 출력합니다.\n",
        "\n",
        "마지막으로, num += 1 문장은 num 변수를 1씩 증가시킵니다. 이렇게 함으로써 반복이 진행될 때마다 num 변수의 값이 1씩 증가하게 됩니다.\n",
        "\n",
        "따라서, 위의 코드는 1부터 30까지의 숫자를 반복하면서 숫자가 3의 배수인 경우에는 \"박수\"라는 문자열을 출력하고, 그렇지 않은 경우에는 숫자를 출력하는 기능을 가진 코드입니다."
      ],
      "metadata": {
        "id": "Pz6oGcjC8wkq"
      }
    }
  ]
}