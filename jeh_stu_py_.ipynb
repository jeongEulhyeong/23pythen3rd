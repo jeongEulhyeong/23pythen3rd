{
  "nbformat": 4,
  "nbformat_minor": 0,
  "metadata": {
    "colab": {
      "provenance": [],
      "authorship_tag": "ABX9TyNlVpO4ohuhZID1Vjm37J/w",
      "include_colab_link": true
    },
    "kernelspec": {
      "name": "python3",
      "display_name": "Python 3"
    },
    "language_info": {
      "name": "python"
    }
  },
  "cells": [
    {
      "cell_type": "markdown",
      "metadata": {
        "id": "view-in-github",
        "colab_type": "text"
      },
      "source": [
        "<a href=\"https://colab.research.google.com/github/jeongEulhyeong/23pythen3rd/blob/main/jeh_stu_py_.ipynb\" target=\"_parent\"><img src=\"https://colab.research.google.com/assets/colab-badge.svg\" alt=\"Open In Colab\"/></a>"
      ]
    },
    {
      "cell_type": "markdown",
      "source": [
        "1. 반복문과 조건문을 사용하여 성적을 입력받아 평균을 낸다"
      ],
      "metadata": {
        "id": "1YF50GQxt3DQ"
      }
    },
    {
      "cell_type": "code",
      "execution_count": null,
      "metadata": {
        "id": "UHI6CUnhtqgm"
      },
      "outputs": [],
      "source": [
        "# 10명의 성적을 입력  받아 평균을 내는 프로그램을 만든다.\n",
        "# 반복문과 조건문을 사용한다.\n",
        "# 변수는 total, counter, grade, average.\n",
        "total = 0           #변수 total은 0으로 선언\n",
        "counter = 1             #변수 counter는 1로 선언\n",
        "while counter <= 10 :       #반복문 while을 사용하여 counter가 10보다 크거나 같을 때 내부  문장으로 넘어간다.\n",
        "    grade = int(input(\"성적을 입력하시오.\"))            #변수 grade에 int(정수형 변환)와 사용자로부터 입력을 받는 input을 사용하여 점수를 받는다.\n",
        "        total = grade + total           #변수 total에 성적 grade와 total 합한 값을 선언\n",
        "            counter = counter + 1           #변수 counter는 초기 선언한 counter에 값에 실행할 때마다 1씩 추가한다.\n",
        "            average = total / 10           #변수 average에 반복문에서 계산한 total 값을 10으로 나눈다.\n",
        "            print(average)          #평균값을 출력\n",
        "            # writh by 정을형"
      ]
    },
    {
      "cell_type": "markdown",
      "source": [
        "이 코드는 10명의 성적을 입력 받아서 평균을 구하는 프로그램입니다.\n",
        "\n",
        "첫 번째 줄에서는 변수 total을 0으로 초기화합니다.두 번째 줄에서는 변수 counter를 1로 초기화합니다.세 번째 줄에서는 반복문 while을 사용하여, counter가 10보다 작거나 같은 동안 내부 문장을 반복합니다.네 번째 줄에서는 변수 grade에 input 함수를 사용하여 사용자로부터 성적을 입력받습니다. 이때, int 함수를 사용하여 입력받은 값을 정수형으로 변환해줍니다.다섯 번째 줄에서는 변수 total에 입력받은 성적 grade와 현재까지의 total 값을 더해줍니다.여섯 번째 줄에서는 변수 counter에 1을 더해줌으로써, 다음 반복문에서 다음 학생의 성적을 입력받을 수 있도록 합니다.일곱 번째 줄에서는 변수 average에 total 값을 10으로 나눈 값을 저장합니다.여덟 번째 줄에서는 변수 average에 저장된 평균값을 출력합니다."
      ],
      "metadata": {
        "id": "3d_PsE8_wEJ5"
      }
    }
  ]
}