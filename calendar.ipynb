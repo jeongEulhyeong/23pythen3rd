{
  "nbformat": 4,
  "nbformat_minor": 0,
  "metadata": {
    "colab": {
      "provenance": [],
      "authorship_tag": "ABX9TyMYdcmdNmTeIE6WNG5YWMWo",
      "include_colab_link": true
    },
    "kernelspec": {
      "name": "python3",
      "display_name": "Python 3"
    },
    "language_info": {
      "name": "python"
    }
  },
  "cells": [
    {
      "cell_type": "markdown",
      "metadata": {
        "id": "view-in-github",
        "colab_type": "text"
      },
      "source": [
        "<a href=\"https://colab.research.google.com/github/jeongEulhyeong/23pythen3rd/blob/main/calendar.ipynb\" target=\"_parent\"><img src=\"https://colab.research.google.com/assets/colab-badge.svg\" alt=\"Open In Colab\"/></a>"
      ]
    },
    {
      "cell_type": "code",
      "execution_count": null,
      "metadata": {
        "colab": {
          "base_uri": "https://localhost:8080/"
        },
        "id": "Yy7fPQfgY9Uo",
        "outputId": "1f1dd295-ccee-4e84-f2c2-885e8e6b9a1a"
      },
      "outputs": [
        {
          "output_type": "stream",
          "name": "stdout",
          "text": [
            "    October 2023\n",
            "Mo Tu We Th Fr Sa Su\n",
            "                   1\n",
            " 2  3  4  5  6  7  8\n",
            " 9 10 11 12 13 14 15\n",
            "16 17 18 19 20 21 22\n",
            "23 24 25 26 27 28 29\n",
            "30 31\n",
            "\n"
          ]
        }
      ],
      "source": [
        "import calendar   # calendar 모듈을 import 합니다.\n",
        "yy = 2023     #year   # 출력할 달력의 연도를 지정합니다\n",
        "mm = 10     #month    # 출력할 달력의 월을 지정합니다.\n",
        "# display the calendat\n",
        "print(calendar.month(yy,mm))    # 지정된 연도와 월에 해당하는 달력을 출력합니다."
      ]
    },
    {
      "cell_type": "markdown",
      "source": [
        "import calendar 구문은 calendar 모듈을 현재 코드에서 사용할 수 있도록 import하는 부분입니다. calendar 모듈은 파이썬에서 날짜와 관련된 다양한 기능을 제공합니다.\n",
        "\n",
        "다음으로, yy 변수에는 출력할 달력의 연도를 지정하고, mm 변수에는 출력할 달력의 월을 지정합니다. 예시 코드에서는 yy 변수에 2023을, mm 변수에 10을 지정하였습니다.\n",
        "\n",
        "마지막으로, print(calendar.month(yy, mm)) 구문은 calendar 모듈의 month 함수를 사용하여 지정된 연도와 월에 해당하는 달력을 출력합니다. calendar.month(yy, mm)은 문자열 형태로 된 달력을 반환하고, print() 함수를 통해 해당 달력을 출력합니다.\n",
        "\n",
        "따라서, 예시 코드는 2023년 10월에 해당하는 달력을 출력하는 기능을 가지고 있습니다."
      ],
      "metadata": {
        "id": "G30kUqDa4Vwj"
      }
    },
    {
      "cell_type": "markdown",
      "source": [
        "1. 오늘의 To Do List를 출력해라\n",
        "2023년 10월 19일 To Do List\n",
        "- 09:10~11:00 컴퓨팅적사고와 기초코딩\n",
        "- 11:10~12:00\n",
        "- 18:00\n"
      ],
      "metadata": {
        "id": "yPiAargraq5f"
      }
    },
    {
      "cell_type": "code",
      "source": [
        "print(\"2023년 10월 19일\")     # 날짜를 출력하는 코드입니다.\n",
        "print(\"09:10~11:00 컴퓨팅적사고와 기초코딩\")    # 시간과 수업 내용을 출력하는 코드입니다.\n",
        "print(\"11:10~12:00 아동건강교육\")   # 시간과 수업 내용을 출력하는 코드입니다.\n",
        "print(\"12:00~13:00 점심\")   # 시간과 수업 내용을 출력하는 코드입니다.\n",
        "print(\"13:00~24:00 시험공부\")    # 시간과 수업 내용을 출력하는 코드입니다."
      ],
      "metadata": {
        "colab": {
          "base_uri": "https://localhost:8080/"
        },
        "id": "T5P_C7uAb10S",
        "outputId": "0c06d79c-54b1-404e-eee9-58047bb37798"
      },
      "execution_count": null,
      "outputs": [
        {
          "output_type": "stream",
          "name": "stdout",
          "text": [
            "2023년 10월 19일\n",
            "09:10~11:00 컴퓨팅적사고와 기초코딩\n",
            "11:10~12:00 아동건강교육\n",
            "12:00~13:00 점심\n",
            "13:00~24:00 시험공부\n"
          ]
        }
      ]
    },
    {
      "cell_type": "markdown",
      "source": [
        "위의 코드는 하루 일정을 출력하는 간단한 예시입니다. 각각의 print() 함수는 따옴표 안에 있는 문자열을 출력합니다. 여기서는 날짜, 시간, 수업 내용 등을 출력하고 있습니다.\n",
        "\n",
        "주석은 코드의 가독성을 높이기 위해 사용되며, 주석은 # 기호로 시작합니다. 주석은 코드의 실행에는 영향을 주지 않지만, 개발자가 코드를 이해하고 다른 사람과 코드를 공유할 때 도움이 됩니다.\n",
        "\n",
        "따라서 위의 코드에서 주석은 해당 코드가 어떤 정보를 출력하는지 설명해주는 역할을 합니다. 예를 들어, \"2023년 10월 19일\"은 날짜를 출력한다는 것을 주석으로 설명하였고, \"09:10~11:00 컴퓨팅적 사고와 기초 코딩\"은 시간과 해당 시간에 진행되는 수업 내용을 출력한다는 것을 주석으로 설명하였습니다."
      ],
      "metadata": {
        "id": "53lzPVsg33U4"
      }
    }
  ]
}