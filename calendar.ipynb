{
  "nbformat": 4,
  "nbformat_minor": 0,
  "metadata": {
    "colab": {
      "provenance": [],
      "authorship_tag": "ABX9TyMh6yazr6zHH/kBBRgfCc0U",
      "include_colab_link": true
    },
    "kernelspec": {
      "name": "python3",
      "display_name": "Python 3"
    },
    "language_info": {
      "name": "python"
    }
  },
  "cells": [
    {
      "cell_type": "markdown",
      "metadata": {
        "id": "view-in-github",
        "colab_type": "text"
      },
      "source": [
        "<a href=\"https://colab.research.google.com/github/jeongEulhyeong/23pythen3rd/blob/main/calendar.ipynb\" target=\"_parent\"><img src=\"https://colab.research.google.com/assets/colab-badge.svg\" alt=\"Open In Colab\"/></a>"
      ]
    },
    {
      "cell_type": "code",
      "execution_count": null,
      "metadata": {
        "colab": {
          "base_uri": "https://localhost:8080/"
        },
        "id": "Yy7fPQfgY9Uo",
        "outputId": "1f1dd295-ccee-4e84-f2c2-885e8e6b9a1a"
      },
      "outputs": [
        {
          "output_type": "stream",
          "name": "stdout",
          "text": [
            "    October 2023\n",
            "Mo Tu We Th Fr Sa Su\n",
            "                   1\n",
            " 2  3  4  5  6  7  8\n",
            " 9 10 11 12 13 14 15\n",
            "16 17 18 19 20 21 22\n",
            "23 24 25 26 27 28 29\n",
            "30 31\n",
            "\n"
          ]
        }
      ],
      "source": [
        "import calendar                 # calendar 모듈을 import합니다.\n",
        "yy = 2023     #year             # 출력할 연도를 지정합니다.\n",
        "mm = 10     #month              # 출력할 월을 지정합니다.\n",
        "# display the calendat\n",
        "print(calendar.month(yy,mm))    # 지정된 연도(yy)와 월(mm)에 해당하는 달력을 출력합니다."
      ]
    },
    {
      "cell_type": "markdown",
      "source": [
        "위 코드에서는 calendar 모듈을 import하여 달력 관련 기능을 사용할 수 있도록 합니다.\n",
        "\n",
        "yy 변수는 출력할 연도를 지정하는 변수입니다. 현재 코드에서는 2023년을 출력하도록 지정되어 있습니다.\n",
        "mm 변수는 출력할 월을 지정하는 변수입니다. 현재 코드에서는 10월을 출력하도록 지정되어 있습니다.\n",
        "print(calendar.month(yy, mm)) 구문은 calendar 모듈의 month() 함수를 사용하여 지정된 연도와 월에 해당하는 달력을 출력하는 역할을 합니다. month() 함수는 해당 연도와 월의 달력을 문자열 형태로 반환합니다. 이를 print() 함수를 사용하여 화면에 출력합니다.\n",
        "\n",
        "코드를 실행하면, 지정된 연도와 월에 해당하는 달력이 출력됩니다."
      ],
      "metadata": {
        "id": "rEHYD_4llBfX"
      }
    },
    {
      "cell_type": "markdown",
      "source": [
        "1. 오늘의 To Do List를 출력해라\n",
        "2023년 10월 19일 To Do List\n",
        "- 09:10~11:00 컴퓨팅적사고와 기초코딩\n",
        "- 11:10~12:00\n",
        "- 18:00\n"
      ],
      "metadata": {
        "id": "yPiAargraq5f"
      }
    },
    {
      "cell_type": "code",
      "source": [
        "print(\"2023년 10월 19일\")                     # 날짜를 출력합니다.\n",
        "print(\"09:10~11:00 컴퓨팅적사고와 기초코딩\")  # 시간과 일정을 출력합니다.\n",
        "print(\"11:10~12:00 아동건강교육\")             # 시간과 일정을 출력합니다.\n",
        "print(\"12:00~13:00 점심\")                     # 시간과 일정을 출력합니다.\n",
        "print(\"13:00~24:00 시험공부\")                # 시간과 일정을 출력합니다."
      ],
      "metadata": {
        "colab": {
          "base_uri": "https://localhost:8080/"
        },
        "id": "T5P_C7uAb10S",
        "outputId": "0c06d79c-54b1-404e-eee9-58047bb37798"
      },
      "execution_count": null,
      "outputs": [
        {
          "output_type": "stream",
          "name": "stdout",
          "text": [
            "2023년 10월 19일\n",
            "09:10~11:00 컴퓨팅적사고와 기초코딩\n",
            "11:10~12:00 아동건강교육\n",
            "12:00~13:00 점심\n",
            "13:00~24:00 시험공부\n"
          ]
        }
      ]
    },
    {
      "cell_type": "markdown",
      "source": [
        "위 코드는 print() 함수를 사용하여 각각의 문자열을 화면에 출력합니다.\n",
        "\n",
        "첫 번째 print() 문은 \"2023년 10월 19일\"을 출력합니다. 이는 특정 날짜를 나타내는 문자열입니다.\n",
        "두 번째부터 네 번째 print() 문은 시간대와 해당하는 일정을 출력합니다. 각각 \"09:1011:00 컴퓨팅적사고와 기초코딩\", \"11:1012:00 아동건강교육\", \"12:00~13:00 점심\"을 출력합니다.\n",
        "다섯 번째 print() 문은 \"13:00~24:00 시험공부\"를 출력합니다. 이는 특정 시간대의 일정을 나타내는 문자열입니다."
      ],
      "metadata": {
        "id": "vfKtxM8ClQVG"
      }
    }
  ]
}