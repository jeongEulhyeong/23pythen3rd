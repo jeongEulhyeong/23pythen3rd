{
  "nbformat": 4,
  "nbformat_minor": 0,
  "metadata": {
    "colab": {
      "provenance": [],
      "authorship_tag": "ABX9TyNVU3bQ3wP/Acr4xWQPiBaH",
      "include_colab_link": true
    },
    "kernelspec": {
      "name": "python3",
      "display_name": "Python 3"
    },
    "language_info": {
      "name": "python"
    }
  },
  "cells": [
    {
      "cell_type": "markdown",
      "metadata": {
        "id": "view-in-github",
        "colab_type": "text"
      },
      "source": [
        "<a href=\"https://colab.research.google.com/github/jeongEulhyeong/23pythen3rd/blob/main/calendar.ipynb\" target=\"_parent\"><img src=\"https://colab.research.google.com/assets/colab-badge.svg\" alt=\"Open In Colab\"/></a>"
      ]
    },
    {
      "cell_type": "code",
      "execution_count": 1,
      "metadata": {
        "colab": {
          "base_uri": "https://localhost:8080/"
        },
        "id": "Yy7fPQfgY9Uo",
        "outputId": "1f1dd295-ccee-4e84-f2c2-885e8e6b9a1a"
      },
      "outputs": [
        {
          "output_type": "stream",
          "name": "stdout",
          "text": [
            "    October 2023\n",
            "Mo Tu We Th Fr Sa Su\n",
            "                   1\n",
            " 2  3  4  5  6  7  8\n",
            " 9 10 11 12 13 14 15\n",
            "16 17 18 19 20 21 22\n",
            "23 24 25 26 27 28 29\n",
            "30 31\n",
            "\n"
          ]
        }
      ],
      "source": [
        "import calendar\n",
        "yy = 2023     #year\n",
        "mm = 10     #month\n",
        "# display the calendat\n",
        "print(calendar.month(yy,mm))\n"
      ]
    },
    {
      "cell_type": "markdown",
      "source": [
        "1. 오늘의 To Do List를 출력해라\n",
        "2023년 10월 19일 To Do List\n",
        "- 09:10~11:00 컴퓨팅적사고와 기초코딩\n",
        "- 11:10~12:00\n",
        "- 18:00\n"
      ],
      "metadata": {
        "id": "yPiAargraq5f"
      }
    },
    {
      "cell_type": "code",
      "source": [
        "print(\"2023년 10월 19일\")\n",
        "print(\"09:10~11:00 컴퓨팅적사고와 기초코딩\")\n",
        "print(\"11:10~12:00 아동건강교육\")\n",
        "print(\"12:00~13:00 점심\")\n",
        "print(\"13:00~24:00 시험공부\")"
      ],
      "metadata": {
        "colab": {
          "base_uri": "https://localhost:8080/"
        },
        "id": "T5P_C7uAb10S",
        "outputId": "0c06d79c-54b1-404e-eee9-58047bb37798"
      },
      "execution_count": 6,
      "outputs": [
        {
          "output_type": "stream",
          "name": "stdout",
          "text": [
            "2023년 10월 19일\n",
            "09:10~11:00 컴퓨팅적사고와 기초코딩\n",
            "11:10~12:00 아동건강교육\n",
            "12:00~13:00 점심\n",
            "13:00~24:00 시험공부\n"
          ]
        }
      ]
    }
  ]
}